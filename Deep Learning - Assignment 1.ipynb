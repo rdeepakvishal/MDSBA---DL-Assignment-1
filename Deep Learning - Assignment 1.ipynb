{
 "cells": [
  {
   "cell_type": "markdown",
   "metadata": {},
   "source": [
    "### Import the required packages"
   ]
  },
  {
   "cell_type": "code",
   "execution_count": 2,
   "metadata": {},
   "outputs": [],
   "source": [
    "import matplotlib.pyplot as plt\n",
    "%matplotlib inline\n",
    "import numpy as np\n",
    "import matplotlib.patches as patches\n",
    "import pandas\n",
    "from keras.utils import np_utils\n",
    "\n",
    "from keras import optimizers\n",
    "from keras.models import Sequential\n",
    "from keras.layers import Dense\n",
    "from keras.wrappers.scikit_learn import KerasClassifier\n",
    "from keras.layers import Activation\n",
    "from keras.utils import to_categorical\n",
    "from keras.layers import Conv2D, Flatten, MaxPooling2D, LocallyConnected2D\n"
   ]
  },
  {
   "cell_type": "code",
   "execution_count": 3,
   "metadata": {},
   "outputs": [],
   "source": [
    "# On some implementations of matplotlib, you may need to change this value\n",
    "IMAGE_SIZE = 72"
   ]
  },
  {
   "cell_type": "code",
   "execution_count": 4,
   "metadata": {},
   "outputs": [],
   "source": [
    "def generate_a_drawing(figsize, U, V, noise=0.0):\n",
    "    fig = plt.figure(figsize=(figsize,figsize))\n",
    "    ax = plt.subplot(111)\n",
    "    plt.axis('Off')\n",
    "    ax.set_xlim(0,figsize)\n",
    "    ax.set_ylim(0,figsize)\n",
    "    ax.fill(U, V, \"k\")\n",
    "    fig.canvas.draw()\n",
    "    imdata = np.frombuffer(fig.canvas.tostring_rgb(), dtype=np.uint8)[::3].astype(np.float32)\n",
    "    imdata = imdata + noise * np.random.random(imdata.size)\n",
    "    plt.close(fig)\n",
    "    return imdata\n",
    "\n",
    "def generate_a_rectangle(noise=0.0, free_location=False):\n",
    "    figsize = 1.0    \n",
    "    U = np.zeros(4)\n",
    "    V = np.zeros(4)\n",
    "    if free_location:\n",
    "        corners = np.random.random(4)\n",
    "        top = max(corners[0], corners[1])\n",
    "        bottom = min(corners[0], corners[1])\n",
    "        left = min(corners[2], corners[3])\n",
    "        right = max(corners[2], corners[3])\n",
    "    else:\n",
    "        side = (0.3 + 0.7 * np.random.random()) * figsize\n",
    "        top = figsize/2 + side/2\n",
    "        bottom = figsize/2 - side/2\n",
    "        left = bottom\n",
    "        right = top\n",
    "    U[0] = U[1] = top\n",
    "    U[2] = U[3] = bottom\n",
    "    V[0] = V[3] = left\n",
    "    V[1] = V[2] = right\n",
    "    return generate_a_drawing(figsize, U, V, noise)\n",
    "\n",
    "\n",
    "def generate_a_disk(noise=0.0, free_location=False):\n",
    "    figsize = 1.0\n",
    "    if free_location:\n",
    "        center = np.random.random(2)\n",
    "    else:\n",
    "        center = (figsize/2, figsize/2)\n",
    "    radius = (0.3 + 0.7 * np.random.random()) * figsize/2\n",
    "    N = 50\n",
    "    U = np.zeros(N)\n",
    "    V = np.zeros(N)\n",
    "    i = 0\n",
    "    for t in np.linspace(0, 2*np.pi, N):\n",
    "        U[i] = center[0] + np.cos(t) * radius\n",
    "        V[i] = center[1] + np.sin(t) * radius\n",
    "        i = i + 1\n",
    "    return generate_a_drawing(figsize, U, V, noise)\n",
    "\n",
    "def generate_a_triangle(noise=0.0, free_location=False):\n",
    "    figsize = 1.0\n",
    "    if free_location:\n",
    "        U = np.random.random(3)\n",
    "        V = np.random.random(3)\n",
    "    else:\n",
    "        size = (0.3 + 0.7 * np.random.random())*figsize/2\n",
    "        middle = figsize/2\n",
    "        U = (middle, middle+size, middle-size)\n",
    "        V = (middle+size, middle-size, middle-size)\n",
    "    imdata = generate_a_drawing(figsize, U, V, noise)\n",
    "    return [imdata, [U[0], V[0], U[1], V[1], U[2], V[2]]]\n"
   ]
  },
  {
   "cell_type": "code",
   "execution_count": 5,
   "metadata": {},
   "outputs": [
    {
     "data": {
      "text/plain": [
       "<matplotlib.image.AxesImage at 0x2763ed1b9e8>"
      ]
     },
     "execution_count": 5,
     "metadata": {},
     "output_type": "execute_result"
    },
    {
     "data": {
      "image/png": "[encoded data removed]",
      "text/plain": [
       "<Figure size 432x288 with 1 Axes>"
      ]
     },
     "metadata": {},
     "output_type": "display_data"
    }
   ],
   "source": [
    "im = generate_a_rectangle(10, True)\n",
    "plt.imshow(im.reshape(IMAGE_SIZE,IMAGE_SIZE), cmap='gray')\n",
    "\n",
    "im = generate_a_disk(10)\n",
    "plt.imshow(im.reshape(IMAGE_SIZE,IMAGE_SIZE), cmap='gray')\n",
    "\n",
    "[im, v] = generate_a_triangle(20, False)\n",
    "plt.imshow(im.reshape(IMAGE_SIZE,IMAGE_SIZE), cmap='gray')\n"
   ]
  },
  {
   "cell_type": "code",
   "execution_count": 6,
   "metadata": {},
   "outputs": [],
   "source": [
    "def generate_dataset_classification(nb_samples, noise=0.0, free_location=False):\n",
    "    # Getting im_size:\n",
    "    im_size = generate_a_rectangle().shape[0]\n",
    "    X = np.zeros([nb_samples,im_size])\n",
    "    Y = np.zeros(nb_samples)\n",
    "    print('Creating data:')\n",
    "    for i in range(nb_samples):\n",
    "        if i % 10 == 0:\n",
    "            print(i)\n",
    "        category = np.random.randint(3)\n",
    "        if category == 0:\n",
    "            X[i] = generate_a_rectangle(noise, free_location)\n",
    "        elif category == 1: \n",
    "            X[i] = generate_a_disk(noise, free_location)\n",
    "        else:\n",
    "            [X[i], V] = generate_a_triangle(noise, free_location)\n",
    "        Y[i] = category\n",
    "    X = (X + noise) / (255 + 2 * noise)\n",
    "    return [X, Y]\n",
    "\n",
    "def generate_test_set_classification():\n",
    "    np.random.seed(42)\n",
    "    [X_test, Y_test] = generate_dataset_classification(300, 20, True)\n",
    "    Y_test = np_utils.to_categorical(Y_test, 3) \n",
    "    return [X_test, Y_test]\n",
    "\n",
    "def generate_dataset_regression(nb_samples, noise=0.0):\n",
    "    # Getting im_size:\n",
    "    im_size = generate_a_triangle()[0].shape[0]\n",
    "    X = np.zeros([nb_samples,im_size])\n",
    "    Y = np.zeros([nb_samples, 6])\n",
    "    print('Creating data:')\n",
    "    for i in range(nb_samples):\n",
    "        if i % 10 == 0:\n",
    "            print(i)\n",
    "        [X[i], Y[i]] = generate_a_triangle(noise, True)\n",
    "    X = (X + noise) / (255 + 2 * noise)\n",
    "    return [X, Y]\n"
   ]
  },
  {
   "cell_type": "code",
   "execution_count": 7,
   "metadata": {},
   "outputs": [],
   "source": [
    "def visualize_prediction(x, y):\n",
    "    fig, ax = plt.subplots(figsize=(5, 5))\n",
    "    I = x.reshape((IMAGE_SIZE,IMAGE_SIZE))\n",
    "    ax.imshow(I, extent=[-0.15,1.15,-0.15,1.15],cmap='gray')\n",
    "    ax.set_xlim([0,1])\n",
    "    ax.set_ylim([0,1])\n",
    "\n",
    "    xy = y.reshape(3,2)\n",
    "    tri = patches.Polygon(xy, closed=True, fill = False, edgecolor = 'r', linewidth = 5, alpha = 0.5)\n",
    "    ax.add_patch(tri)\n",
    "\n",
    "    plt.show()\n",
    "\n",
    "def generate_test_set_regression():\n",
    "    np.random.seed(42)\n",
    "    [X_test, Y_test] = generate_dataset_regression(300, 20)\n",
    "    return [X_test, Y_test]\n"
   ]
  },
  {
   "cell_type": "markdown",
   "metadata": {},
   "source": [
    "\n",
    "# 3. Simple Classification"
   ]
  },
  {
   "cell_type": "code",
   "execution_count": 8,
   "metadata": {},
   "outputs": [
    {
     "name": "stdout",
     "output_type": "stream",
     "text": [
      "Creating data:\n",
      "0\n",
      "10\n",
      "20\n",
      "30\n",
      "40\n",
      "50\n",
      "60\n",
      "70\n",
      "80\n",
      "90\n",
      "100\n",
      "110\n",
      "120\n",
      "130\n",
      "140\n",
      "150\n",
      "160\n",
      "170\n",
      "180\n",
      "190\n",
      "200\n",
      "210\n",
      "220\n",
      "230\n",
      "240\n",
      "250\n",
      "260\n",
      "270\n",
      "280\n",
      "290\n"
     ]
    }
   ],
   "source": [
    "# Let us now generate a random set of images\n",
    "[X_train, Y_train] = generate_dataset_classification(300, 20)"
   ]
  },
  {
   "cell_type": "code",
   "execution_count": 10,
   "metadata": {},
   "outputs": [],
   "source": [
    "# Let us now convert the target variables as 3 separate categories\n",
    "Y_train = to_categorical(Y_train, 3)"
   ]
  },
  {
   "cell_type": "code",
   "execution_count": 11,
   "metadata": {},
   "outputs": [
    {
     "data": {
      "text/plain": [
       "(300, 3)"
      ]
     },
     "execution_count": 11,
     "metadata": {},
     "output_type": "execute_result"
    }
   ],
   "source": [
    "Y_train.shape"
   ]
  },
  {
   "cell_type": "markdown",
   "metadata": {},
   "source": [
    "## Stochastic Gradient Descent Optimizer"
   ]
  },
  {
   "cell_type": "code",
   "execution_count": 19,
   "metadata": {},
   "outputs": [],
   "source": [
    "# Initiate the number of neurons to be used\n",
    "neurons = 128"
   ]
  },
  {
   "cell_type": "code",
   "execution_count": 20,
   "metadata": {},
   "outputs": [],
   "source": [
    "# pass optimizer by name of SGD: default parameters will be used \n",
    "model_sgd = Sequential()\n",
    "model_sgd.add(Dense(neurons, activation='relu'))\n",
    "model_sgd.add(Dense(neurons, activation='relu'))\n",
    "model_sgd.add(Dense(neurons, activation='relu'))\n",
    "model_sgd.add(Dense(3, activation='softmax'))\n",
    "\n",
    "# Initiate the SGD optimizer with the required set of parameters\n",
    "sgd = optimizers.SGD(lr=0.01, decay=1e-6, momentum=0.9, nesterov=True)"
   ]
  },
  {
   "cell_type": "code",
   "execution_count": 21,
   "metadata": {},
   "outputs": [],
   "source": [
    "# Now we will compile the model with the metrics of measure and the optimizer to be used for it to be trained with\n",
    "model_sgd.compile(loss='categorical_crossentropy', optimizer='sgd', metrics=['acc'])"
   ]
  },
  {
   "cell_type": "code",
   "execution_count": 22,
   "metadata": {},
   "outputs": [
    {
     "name": "stdout",
     "output_type": "stream",
     "text": [
      "Epoch 1/20\n",
      "300/300 [==============================] - 0s 2ms/step - loss: 0.2208 - acc: 0.4833\n",
      "Epoch 2/20\n",
      "300/300 [==============================] - 0s 549us/step - loss: 0.1916 - acc: 0.6367\n",
      "Epoch 3/20\n",
      "300/300 [==============================] - 0s 532us/step - loss: 0.1833 - acc: 0.6133\n",
      "Epoch 4/20\n",
      "300/300 [==============================] - 0s 545us/step - loss: 0.1712 - acc: 0.6400\n",
      "Epoch 5/20\n",
      "300/300 [==============================] - 0s 525us/step - loss: 0.1638 - acc: 0.7233\n",
      "Epoch 6/20\n",
      "300/300 [==============================] - 0s 506us/step - loss: 0.1539 - acc: 0.6867\n",
      "Epoch 7/20\n",
      "300/300 [==============================] - 0s 492us/step - loss: 0.1463 - acc: 0.7433\n",
      "Epoch 8/20\n",
      "300/300 [==============================] - 0s 502us/step - loss: 0.1452 - acc: 0.7200\n",
      "Epoch 9/20\n",
      "300/300 [==============================] - 0s 511us/step - loss: 0.1273 - acc: 0.7900\n",
      "Epoch 10/20\n",
      "300/300 [==============================] - 0s 527us/step - loss: 0.1219 - acc: 0.7967\n",
      "Epoch 11/20\n",
      "300/300 [==============================] - 0s 519us/step - loss: 0.1234 - acc: 0.7867\n",
      "Epoch 12/20\n",
      "300/300 [==============================] - 0s 469us/step - loss: 0.1160 - acc: 0.8100\n",
      "Epoch 13/20\n",
      "300/300 [==============================] - 0s 436us/step - loss: 0.1137 - acc: 0.8000\n",
      "Epoch 14/20\n",
      "300/300 [==============================] - 0s 419us/step - loss: 0.1007 - acc: 0.8433\n",
      "Epoch 15/20\n",
      "300/300 [==============================] - 0s 492us/step - loss: 0.1099 - acc: 0.7833\n",
      "Epoch 16/20\n",
      "300/300 [==============================] - 0s 520us/step - loss: 0.0948 - acc: 0.8233\n",
      "Epoch 17/20\n",
      "300/300 [==============================] - 0s 509us/step - loss: 0.0907 - acc: 0.8667\n",
      "Epoch 18/20\n",
      "300/300 [==============================] - 0s 512us/step - loss: 0.0891 - acc: 0.8467\n",
      "Epoch 19/20\n",
      "300/300 [==============================] - 0s 572us/step - loss: 0.0836 - acc: 0.8700\n",
      "Epoch 20/20\n",
      "300/300 [==============================] - 0s 645us/step - loss: 0.0876 - acc: 0.8300\n"
     ]
    },
    {
     "data": {
      "text/plain": [
       "<keras.callbacks.History at 0x1f56d793550>"
      ]
     },
     "execution_count": 22,
     "metadata": {},
     "output_type": "execute_result"
    }
   ],
   "source": [
    "model_sgd.fit(X_train, Y_train, epochs=20)"
   ]
  },
  {
   "cell_type": "code",
   "execution_count": 23,
   "metadata": {},
   "outputs": [],
   "source": [
    "X_test = generate_a_disk()\n",
    "\n",
    "X_test = X_test.reshape(1, X_test.shape[0]) \n",
    "Y_SGD = model_sgd.predict(X_test)"
   ]
  },
  {
   "cell_type": "code",
   "execution_count": 24,
   "metadata": {},
   "outputs": [
    {
     "data": {
      "text/plain": [
       "array([[0., 1., 0.]], dtype=float32)"
      ]
     },
     "execution_count": 24,
     "metadata": {},
     "output_type": "execute_result"
    }
   ],
   "source": [
    "Y_SGD"
   ]
  },
  {
   "cell_type": "code",
   "execution_count": 25,
   "metadata": {},
   "outputs": [
    {
     "name": "stdout",
     "output_type": "stream",
     "text": [
      "300/300 [==============================] - 0s 312us/step\n"
     ]
    },
    {
     "data": {
      "text/plain": [
       "[0.08700462212165197, 0.7733333341280619]"
      ]
     },
     "execution_count": 25,
     "metadata": {},
     "output_type": "execute_result"
    }
   ],
   "source": [
    "model_sgd.evaluate(X_train, Y_train)"
   ]
  },
  {
   "cell_type": "markdown",
   "metadata": {},
   "source": [
    "## Adam Optimizer"
   ]
  },
  {
   "cell_type": "code",
   "execution_count": 26,
   "metadata": {},
   "outputs": [],
   "source": [
    "# pass optimizer by name: default parameters will be used\n",
    "model_adm = Sequential()\n",
    "model_adm.add(Dense(neurons, activation='relu'))\n",
    "model_adm.add(Dense(neurons, activation='relu'))\n",
    "model_adm.add(Dense(neurons, activation='relu'))\n",
    "model_adm.add(Dense(3, activation='softmax'))\n",
    "\n",
    "# Initiate the Adam optimizer with the required set of parameters\n",
    "adam = optimizers.Adam(lr=0.001, beta_1=0.9, beta_2=0.999, epsilon=None, decay=0.0, amsgrad=False)\n",
    "\n",
    "# Now we will compile the model with the metrics of measure and the optimizer to be used for it to be trained with\n",
    "model_adm.compile(loss='categorical_crossentropy', optimizer='adam', metrics=['acc'])"
   ]
  },
  {
   "cell_type": "code",
   "execution_count": 27,
   "metadata": {},
   "outputs": [
    {
     "name": "stdout",
     "output_type": "stream",
     "text": [
      "Epoch 1/20\n",
      "300/300 [==============================] - 1s 3ms/step - loss: 0.2977 - acc: 0.3533\n",
      "Epoch 2/20\n",
      "300/300 [==============================] - 0s 858us/step - loss: 0.2287 - acc: 0.4500\n",
      "Epoch 3/20\n",
      "300/300 [==============================] - 0s 811us/step - loss: 0.1549 - acc: 0.6067\n",
      "Epoch 4/20\n",
      "300/300 [==============================] - 0s 934us/step - loss: 0.1206 - acc: 0.7300\n",
      "Epoch 5/20\n",
      "300/300 [==============================] - 0s 929us/step - loss: 0.1056 - acc: 0.7633\n",
      "Epoch 6/20\n",
      "300/300 [==============================] - 0s 902us/step - loss: 0.0817 - acc: 0.8367 0s - loss: 0.0732 - acc: 0.85\n",
      "Epoch 7/20\n",
      "300/300 [==============================] - 0s 891us/step - loss: 0.0558 - acc: 0.8767\n",
      "Epoch 8/20\n",
      "300/300 [==============================] - 0s 878us/step - loss: 0.0458 - acc: 0.9100\n",
      "Epoch 9/20\n",
      "300/300 [==============================] - 0s 961us/step - loss: 0.0315 - acc: 0.9433\n",
      "Epoch 10/20\n",
      "300/300 [==============================] - 0s 898us/step - loss: 0.0346 - acc: 0.9233\n",
      "Epoch 11/20\n",
      "300/300 [==============================] - 0s 957us/step - loss: 0.0184 - acc: 0.9700\n",
      "Epoch 12/20\n",
      "300/300 [==============================] - 0s 838us/step - loss: 0.0356 - acc: 0.9067\n",
      "Epoch 13/20\n",
      "300/300 [==============================] - 0s 994us/step - loss: 0.0189 - acc: 0.9633\n",
      "Epoch 14/20\n",
      "300/300 [==============================] - 0s 1ms/step - loss: 0.0107 - acc: 0.9833\n",
      "Epoch 15/20\n",
      "300/300 [==============================] - 0s 982us/step - loss: 0.0029 - acc: 1.0000\n",
      "Epoch 16/20\n",
      "300/300 [==============================] - 0s 948us/step - loss: 0.0047 - acc: 1.0000\n",
      "Epoch 17/20\n",
      "300/300 [==============================] - 0s 1ms/step - loss: 0.0088 - acc: 0.9933\n",
      "Epoch 18/20\n",
      "300/300 [==============================] - 0s 912us/step - loss: 0.0042 - acc: 1.0000\n",
      "Epoch 19/20\n",
      "300/300 [==============================] - 0s 913us/step - loss: 0.0024 - acc: 1.0000\n",
      "Epoch 20/20\n",
      "300/300 [==============================] - 0s 911us/step - loss: 8.5047e-04 - acc: 1.0000\n"
     ]
    },
    {
     "data": {
      "text/plain": [
       "<keras.callbacks.History at 0x1f56dfad320>"
      ]
     },
     "execution_count": 27,
     "metadata": {},
     "output_type": "execute_result"
    }
   ],
   "source": [
    "model_adm.fit(X_train, Y_train, epochs=20)"
   ]
  },
  {
   "cell_type": "code",
   "execution_count": 28,
   "metadata": {},
   "outputs": [],
   "source": [
    "X_test = generate_a_disk()\n",
    "\n",
    "X_test = X_test.reshape(1, X_test.shape[0]) \n",
    "Y_adm = model_adm.predict(X_test)"
   ]
  },
  {
   "cell_type": "code",
   "execution_count": 29,
   "metadata": {},
   "outputs": [
    {
     "data": {
      "text/plain": [
       "array([[0., 1., 0.]], dtype=float32)"
      ]
     },
     "execution_count": 29,
     "metadata": {},
     "output_type": "execute_result"
    }
   ],
   "source": [
    "Y_adm"
   ]
  },
  {
   "cell_type": "code",
   "execution_count": 30,
   "metadata": {},
   "outputs": [
    {
     "name": "stdout",
     "output_type": "stream",
     "text": [
      "300/300 [==============================] - 0s 369us/step\n"
     ]
    },
    {
     "data": {
      "text/plain": [
       "[0.0005723458404342333, 1.0]"
      ]
     },
     "execution_count": 30,
     "metadata": {},
     "output_type": "execute_result"
    }
   ],
   "source": [
    "model_adm.evaluate(X_train, Y_train)"
   ]
  },
  {
   "cell_type": "markdown",
   "metadata": {},
   "source": [
    "## 4. Visualization of the Solution"
   ]
  },
  {
   "cell_type": "markdown",
   "metadata": {},
   "source": [
    "Now let us visualize the 3 columns of the predicted values of the SGD model as images"
   ]
  },
  {
   "cell_type": "code",
   "execution_count": 42,
   "metadata": {},
   "outputs": [
    {
     "data": {
      "text/plain": [
       "[array([[-5.53031219e-03, -3.28688137e-02, -3.20029296e-02, ...,\n",
       "         -3.36979446e-03, -2.94376500e-02, -3.93908890e-03],\n",
       "        [-3.20884809e-02,  3.07324231e-02,  1.10727865e-02, ...,\n",
       "         -1.95037629e-02, -1.93459317e-02,  1.06596258e-02],\n",
       "        [ 8.97594448e-03, -2.08254382e-02,  3.19599709e-03, ...,\n",
       "         -1.57789793e-02,  2.29358245e-02,  1.63142178e-02],\n",
       "        ...,\n",
       "        [ 1.01924473e-02,  3.76217067e-05, -4.87797847e-03, ...,\n",
       "         -2.12555379e-02, -2.99976170e-02,  1.02025094e-02],\n",
       "        [ 3.07770614e-02, -1.34249516e-02, -2.77523082e-02, ...,\n",
       "         -2.51291897e-02, -1.26764849e-02,  2.80014649e-02],\n",
       "        [ 1.54578434e-02,  2.15994455e-02,  2.38168295e-02, ...,\n",
       "          2.24843193e-02, -2.79260520e-02,  2.10291706e-02]], dtype=float32),\n",
       " array([ 1.05297113e-05,  0.00000000e+00,  4.72776737e-04,  0.00000000e+00,\n",
       "         5.87243703e-04, -3.58644684e-05,  0.00000000e+00, -8.20511414e-05,\n",
       "         3.59219935e-04, -1.49439962e-04,  3.26285430e-04, -2.16996541e-05,\n",
       "         0.00000000e+00,  1.56521026e-04, -6.05342502e-05,  0.00000000e+00,\n",
       "         1.60496580e-04,  0.00000000e+00,  4.66674501e-05,  0.00000000e+00,\n",
       "        -1.19005490e-04, -1.03514350e-04, -2.06111261e-04, -1.35774335e-05,\n",
       "         5.60480752e-04,  6.60995254e-04,  3.99291224e-04,  1.27957828e-05,\n",
       "        -6.57460478e-05,  6.93742593e-04,  0.00000000e+00, -5.96234750e-05,\n",
       "         0.00000000e+00,  7.21041753e-04, -3.22009524e-04,  1.79709314e-04,\n",
       "        -5.65609880e-05,  2.85846996e-04, -2.85555216e-05,  0.00000000e+00,\n",
       "        -3.46635090e-04, -1.56193884e-04, -5.49004617e-05,  0.00000000e+00,\n",
       "        -2.03651853e-05,  6.79039804e-04,  2.46502954e-04,  0.00000000e+00,\n",
       "         4.44120560e-05, -5.28767760e-06, -1.05347295e-04,  0.00000000e+00,\n",
       "        -1.76942223e-04,  0.00000000e+00, -1.65061734e-04,  1.48235034e-04,\n",
       "         7.68746577e-06, -2.72433710e-04,  0.00000000e+00, -1.47938583e-04,\n",
       "         5.30030462e-04,  0.00000000e+00, -5.04547381e-04, -4.80247254e-05,\n",
       "        -3.84118001e-04,  1.37063151e-04,  0.00000000e+00,  2.79968575e-04,\n",
       "        -9.18156729e-05,  3.42162559e-04, -3.64380568e-04,  3.47020337e-04,\n",
       "        -5.82988287e-05, -1.15695279e-04, -1.96008885e-04,  0.00000000e+00,\n",
       "         6.83717546e-04,  0.00000000e+00, -2.62548536e-04,  1.65328369e-04,\n",
       "        -1.83228040e-04, -4.41044976e-05,  5.13826963e-05,  2.79231917e-05,\n",
       "        -1.19305536e-04,  8.06962544e-06,  0.00000000e+00, -4.31032931e-05,\n",
       "         3.89781431e-04,  0.00000000e+00,  1.45892645e-05, -7.26883081e-05,\n",
       "        -1.51248460e-05, -1.42480058e-05,  9.07709109e-05, -1.18539021e-04,\n",
       "        -1.98064845e-05,  5.51302510e-04,  9.57148513e-05, -5.55561346e-05,\n",
       "         0.00000000e+00, -2.66409479e-04, -3.15092529e-06,  2.67840733e-05,\n",
       "         3.41278763e-04,  0.00000000e+00,  0.00000000e+00,  3.51710827e-04,\n",
       "         0.00000000e+00,  0.00000000e+00,  6.87002685e-05,  2.55612598e-04,\n",
       "         3.13630851e-04, -4.56373164e-05, -8.25637253e-05,  5.08008350e-04,\n",
       "         2.23043913e-04,  0.00000000e+00,  2.30776554e-04,  9.15860801e-06,\n",
       "        -2.66250572e-04,  0.00000000e+00,  0.00000000e+00, -9.82305501e-05,\n",
       "         1.18011565e-04, -8.31652287e-05, -3.05965048e-04,  1.64713376e-04],\n",
       "       dtype=float32),\n",
       " array([[-0.09126541, -0.0885397 ,  0.01756033, ..., -0.07612236,\n",
       "          0.03046196,  0.12516432],\n",
       "        [-0.0911145 , -0.15136385,  0.11890294, ...,  0.03616481,\n",
       "         -0.1039958 ,  0.05297656],\n",
       "        [-0.10366753, -0.07342596,  0.083824  , ...,  0.11049841,\n",
       "         -0.0959575 , -0.12284139],\n",
       "        ...,\n",
       "        [-0.10452987,  0.08703721, -0.01366617, ..., -0.11313349,\n",
       "          0.07163176, -0.0183152 ],\n",
       "        [-0.03991535,  0.06705485, -0.07970307, ..., -0.0507487 ,\n",
       "         -0.01690881,  0.0107099 ],\n",
       "        [ 0.00537024,  0.13927622, -0.03834664, ...,  0.01664336,\n",
       "          0.05392943, -0.1333801 ]], dtype=float32),\n",
       " array([-8.03339572e-06,  2.15680455e-04, -1.12317633e-04,  1.09271798e-03,\n",
       "         1.34622143e-03,  7.70341314e-04,  3.98781231e-05,  6.58781792e-05,\n",
       "         0.00000000e+00,  0.00000000e+00,  8.43507412e-04,  4.23616846e-04,\n",
       "         0.00000000e+00,  9.43047999e-05,  0.00000000e+00, -3.72598908e-04,\n",
       "         5.33212267e-04, -6.44943066e-05,  1.31584660e-04, -5.25039286e-06,\n",
       "        -3.53800540e-04,  9.71929012e-07,  0.00000000e+00,  0.00000000e+00,\n",
       "         0.00000000e+00, -2.26150441e-05, -2.69008742e-04,  0.00000000e+00,\n",
       "         2.05801232e-04, -4.73311138e-06,  5.54870057e-04,  4.70906118e-04,\n",
       "        -1.01056183e-03, -1.39133135e-06,  7.34701811e-04,  6.48134446e-04,\n",
       "         3.66077293e-05,  1.24491763e-03,  0.00000000e+00,  0.00000000e+00,\n",
       "        -3.41109437e-04, -1.42635865e-04, -6.95589406e-05,  2.97296856e-06,\n",
       "        -3.83522653e-04, -9.95878363e-04,  1.20909506e-04,  2.08036951e-03,\n",
       "         0.00000000e+00,  8.91607720e-04,  0.00000000e+00,  0.00000000e+00,\n",
       "        -6.60988153e-04,  5.58754196e-04, -7.77006426e-05, -6.16278674e-04,\n",
       "         8.36201943e-05,  7.00817618e-04, -2.72536709e-04, -1.25984580e-03,\n",
       "        -2.70109653e-04,  2.02950396e-04, -2.44221243e-04, -5.58776810e-06,\n",
       "         3.78872006e-04,  3.73715768e-04,  2.09011967e-04, -1.29210635e-03,\n",
       "        -8.55169084e-04, -3.52691422e-04,  8.73902754e-04,  8.62866465e-04,\n",
       "        -4.72026819e-04, -2.68988952e-04,  1.20161585e-05,  5.90475334e-04,\n",
       "        -1.78065267e-04,  2.65511393e-04, -9.59130062e-04, -4.84427037e-05,\n",
       "        -6.09848415e-04, -9.53044102e-04,  1.45210803e-03,  4.20858909e-04,\n",
       "        -5.98168350e-04,  7.59273651e-04, -2.49471283e-04, -1.79814873e-03,\n",
       "        -2.01927596e-05,  0.00000000e+00,  0.00000000e+00,  5.71427925e-04,\n",
       "         0.00000000e+00, -5.84534835e-04, -5.09020232e-04,  5.69069234e-04,\n",
       "        -6.02304026e-05, -4.40806180e-04,  0.00000000e+00,  0.00000000e+00,\n",
       "         4.96372115e-04, -4.78177244e-05,  0.00000000e+00, -2.91729102e-05,\n",
       "         1.23504794e-03, -2.04851065e-04,  5.46939205e-04,  9.07548238e-04,\n",
       "        -3.90074943e-04,  0.00000000e+00,  0.00000000e+00, -7.89264392e-04,\n",
       "        -1.51652530e-05, -2.20332477e-05,  9.42745028e-05,  6.43680221e-04,\n",
       "         3.23090499e-04,  3.32517637e-04,  4.32518922e-04,  5.15797408e-04,\n",
       "         8.24552961e-04,  5.60182671e-04,  1.31624765e-04,  1.18523305e-04,\n",
       "         8.97265447e-04, -8.47178762e-06,  4.09216038e-04,  7.19322998e-05],\n",
       "       dtype=float32),\n",
       " array([[ 0.1371191 ,  0.12828346,  0.04043329, ...,  0.02837382,\n",
       "         -0.04299494,  0.0460236 ],\n",
       "        [ 0.04235755,  0.08084298,  0.14284204, ...,  0.04165704,\n",
       "         -0.05894798, -0.04502481],\n",
       "        [ 0.0706318 , -0.05685582, -0.1369661 , ..., -0.13981357,\n",
       "         -0.06754715, -0.10787836],\n",
       "        ...,\n",
       "        [ 0.12345265,  0.11056666,  0.12919037, ...,  0.12758629,\n",
       "         -0.05359648,  0.14828044],\n",
       "        [-0.02761228,  0.03004609,  0.05601743, ...,  0.03058586,\n",
       "          0.08592398,  0.04824809],\n",
       "        [ 0.11684926,  0.02764397, -0.0923627 , ...,  0.14735046,\n",
       "         -0.07712723,  0.0507285 ]], dtype=float32),\n",
       " array([ 0.0000000e+00, -1.3824907e-03, -8.5446256e-04,  1.7114263e-03,\n",
       "        -1.2011554e-03,  5.3969724e-04, -1.9925363e-04,  0.0000000e+00,\n",
       "        -2.9027805e-04, -8.9496694e-04,  1.3266685e-03,  0.0000000e+00,\n",
       "        -1.1152008e-03,  3.8624159e-03, -6.5561253e-05, -6.5412454e-04,\n",
       "         0.0000000e+00,  7.4240525e-05,  0.0000000e+00,  1.2082153e-03,\n",
       "        -3.0471372e-05, -1.6017263e-03, -7.1619474e-04,  6.6554348e-04,\n",
       "         2.3955102e-04, -1.3796941e-05,  0.0000000e+00,  0.0000000e+00,\n",
       "        -2.3217010e-03, -4.8154636e-04, -1.3456291e-05,  1.0609524e-03,\n",
       "         9.9301455e-04,  8.5653126e-05, -3.3639873e-05, -2.8305885e-04,\n",
       "        -5.5504445e-04,  0.0000000e+00,  1.6072962e-03, -6.6890541e-05,\n",
       "         9.6455257e-04, -5.9784594e-04,  1.0029923e-03,  3.8178163e-04,\n",
       "        -6.9312955e-05,  4.3155789e-05,  1.2448031e-03, -1.5363956e-04,\n",
       "         1.2198208e-03, -5.6356468e-05,  9.3862000e-05, -1.5241274e-04,\n",
       "         0.0000000e+00, -1.7690024e-04, -7.8534574e-04, -5.1207596e-04,\n",
       "         0.0000000e+00,  2.4429872e-04,  1.0683518e-03, -3.3954944e-04,\n",
       "        -1.0975632e-03, -4.3478617e-04,  1.4788497e-03,  4.5660682e-04,\n",
       "        -6.9414452e-04,  0.0000000e+00, -8.9014642e-04,  3.5063096e-04,\n",
       "         0.0000000e+00,  0.0000000e+00,  0.0000000e+00,  1.6922191e-03,\n",
       "         7.9234532e-04,  1.2952088e-03,  8.2735554e-05, -5.5698420e-05,\n",
       "         0.0000000e+00, -2.3992630e-05, -3.2458125e-04,  1.1016777e-04,\n",
       "         0.0000000e+00, -6.7502848e-04, -9.2262735e-07,  7.1958173e-04,\n",
       "         1.4102159e-04, -4.1617558e-04, -1.2464784e-03,  0.0000000e+00,\n",
       "        -1.8726665e-04,  4.0025031e-04, -4.8503903e-04,  3.2230328e-05,\n",
       "         1.2655386e-03,  3.5335618e-04,  1.7539157e-03,  0.0000000e+00,\n",
       "        -7.5700827e-04,  1.5151429e-03, -6.8550016e-04,  6.9808908e-04,\n",
       "        -1.3574463e-04, -9.5378555e-04, -3.1844966e-04, -5.9420691e-04,\n",
       "         0.0000000e+00,  1.8467692e-03,  3.0877034e-04,  8.9059642e-04,\n",
       "         1.4574239e-03,  2.6924052e-05,  4.9906975e-04, -2.0243006e-03,\n",
       "        -7.6543511e-04,  7.4347603e-04,  2.9103193e-03, -1.8324290e-04,\n",
       "         4.6441949e-04,  2.4206518e-05,  1.9341345e-04,  1.1698209e-03,\n",
       "         0.0000000e+00, -4.9328513e-04,  8.1895676e-04, -9.5730677e-04,\n",
       "         4.4578392e-06,  3.1355454e-04,  2.2130634e-03,  3.6065865e-04],\n",
       "       dtype=float32),\n",
       " array([[-0.08397035,  0.14444114,  0.17286949],\n",
       "        [-0.06893638, -0.16908959, -0.01001055],\n",
       "        [-0.0886663 ,  0.01598476,  0.05579066],\n",
       "        [ 0.18739404,  0.2041686 , -0.17304745],\n",
       "        [-0.12633802, -0.2195754 ,  0.17756979],\n",
       "        [ 0.14733465, -0.12312499, -0.13745835],\n",
       "        [ 0.12918322,  0.12796654,  0.17209513],\n",
       "        [-0.16077991,  0.06853749,  0.06808864],\n",
       "        [-0.11982423, -0.20890635, -0.11917368],\n",
       "        [-0.02976261, -0.04534459,  0.13189168],\n",
       "        [ 0.12765042,  0.1511833 , -0.14066166],\n",
       "        [ 0.10719179, -0.2138505 ,  0.00697905],\n",
       "        [-0.1869384 ,  0.0824759 ,  0.15568763],\n",
       "        [ 0.20671798,  0.15866484, -0.13814567],\n",
       "        [ 0.01694435,  0.07565998, -0.16696991],\n",
       "        [ 0.16791965, -0.07802413, -0.07952996],\n",
       "        [ 0.14714174,  0.11697523, -0.11218729],\n",
       "        [ 0.08561036,  0.0012411 ,  0.05146391],\n",
       "        [-0.03084363,  0.01525857,  0.01270963],\n",
       "        [ 0.06368355,  0.18553746, -0.13273655],\n",
       "        [-0.0462435 ,  0.00078554, -0.03345001],\n",
       "        [-0.02234045,  0.12508065, -0.13426477],\n",
       "        [-0.11522489,  0.07677748,  0.09210366],\n",
       "        [-0.2005428 ,  0.11114086,  0.11328775],\n",
       "        [-0.04700384, -0.19129892, -0.16700664],\n",
       "        [-0.10310666,  0.17922707,  0.02081729],\n",
       "        [ 0.10846187,  0.15834056,  0.14818566],\n",
       "        [ 0.07093386, -0.05204989,  0.15828063],\n",
       "        [-0.06458797, -0.12933128,  0.04445668],\n",
       "        [-0.21569344, -0.0250156 , -0.04642136],\n",
       "        [-0.03520614,  0.0601979 , -0.10809822],\n",
       "        [-0.08582298,  0.02199402, -0.10020961],\n",
       "        [ 0.14849131,  0.11656108,  0.06885578],\n",
       "        [-0.06824119,  0.19929887, -0.0855512 ],\n",
       "        [-0.13534312, -0.1979873 , -0.07675309],\n",
       "        [ 0.12335957, -0.15204638,  0.12223402],\n",
       "        [ 0.10806839, -0.1583591 , -0.10459764],\n",
       "        [-0.19441521, -0.00270768, -0.18313968],\n",
       "        [-0.00596935, -0.19096635,  0.0284854 ],\n",
       "        [-0.04242845, -0.158787  , -0.10026032],\n",
       "        [-0.06314158,  0.0439735 , -0.08243843],\n",
       "        [ 0.04020695,  0.13971429,  0.10204635],\n",
       "        [-0.19258913, -0.21059725, -0.13572787],\n",
       "        [ 0.00856779,  0.14775634, -0.08860821],\n",
       "        [-0.02460304,  0.06363597,  0.10905619],\n",
       "        [-0.14972995, -0.17701536, -0.17154357],\n",
       "        [ 0.0855749 ,  0.04336296, -0.0002746 ],\n",
       "        [ 0.12767822,  0.00239062,  0.08686291],\n",
       "        [-0.08890156,  0.00599381, -0.17671563],\n",
       "        [ 0.11359242,  0.00381283, -0.03670273],\n",
       "        [ 0.02754414,  0.03889604,  0.14619198],\n",
       "        [ 0.0821111 ,  0.03515084, -0.19192018],\n",
       "        [ 0.07681333, -0.17097147, -0.19198377],\n",
       "        [ 0.00204145,  0.20531924,  0.07933734],\n",
       "        [-0.21322407,  0.03637202,  0.05419197],\n",
       "        [-0.17255837, -0.18391548,  0.09818508],\n",
       "        [ 0.0059928 ,  0.1009859 , -0.03606132],\n",
       "        [-0.16054586, -0.0153237 , -0.00902612],\n",
       "        [ 0.18865258,  0.05866392, -0.10877375],\n",
       "        [-0.14618342,  0.0949432 ,  0.03488521],\n",
       "        [-0.20884326, -0.12257713,  0.00854885],\n",
       "        [-0.02389394,  0.02232092,  0.11153292],\n",
       "        [ 0.03229527,  0.20674556, -0.11873264],\n",
       "        [ 0.18151413, -0.08643156,  0.0169466 ],\n",
       "        [-0.17876811, -0.19192916, -0.06681663],\n",
       "        [-0.12550503,  0.2095659 , -0.09785543],\n",
       "        [ 0.11896536, -0.1216201 ,  0.13371421],\n",
       "        [-0.17568983, -0.02086132, -0.19310987],\n",
       "        [-0.14546883, -0.00493817, -0.09363458],\n",
       "        [ 0.07798664, -0.12876281, -0.10410759],\n",
       "        [ 0.04994966, -0.03338824, -0.06100675],\n",
       "        [-0.03444583,  0.03316331,  0.21547778],\n",
       "        [-0.03201021, -0.16877918,  0.21294141],\n",
       "        [ 0.18272837,  0.00408841, -0.17706509],\n",
       "        [ 0.14925906, -0.20164539,  0.10114223],\n",
       "        [-0.1596513 , -0.11876902,  0.13259743],\n",
       "        [ 0.03441665,  0.09795208,  0.17951263],\n",
       "        [ 0.00397763,  0.15200824,  0.05580158],\n",
       "        [-0.01352127, -0.03358492,  0.08942483],\n",
       "        [ 0.02758403,  0.0543974 ,  0.00294156],\n",
       "        [-0.12083347,  0.16870235,  0.03280267],\n",
       "        [-0.19663356, -0.1953515 ,  0.20999582],\n",
       "        [-0.14661111,  0.04532772, -0.18642524],\n",
       "        [ 0.08685198,  0.09094365, -0.08965748],\n",
       "        [ 0.056056  , -0.05167244,  0.15048176],\n",
       "        [ 0.01333959,  0.09932432,  0.11151098],\n",
       "        [-0.14200951, -0.1500035 ,  0.09599112],\n",
       "        [-0.07030483, -0.03179841,  0.05413686],\n",
       "        [ 0.02444258,  0.16122417,  0.06324716],\n",
       "        [ 0.21365799, -0.08110651, -0.01041707],\n",
       "        [-0.13851672,  0.12780693,  0.00908643],\n",
       "        [-0.08365566,  0.02520625, -0.06334373],\n",
       "        [ 0.22728056,  0.03660278, -0.13946307],\n",
       "        [ 0.0611565 , -0.20982987, -0.01150576],\n",
       "        [ 0.17762434, -0.16106483,  0.19355339],\n",
       "        [ 0.08474435, -0.1581499 , -0.21337694],\n",
       "        [-0.06727826,  0.17512518,  0.18307664],\n",
       "        [ 0.03413222,  0.19073616, -0.16611949],\n",
       "        [-0.08124425, -0.21733806, -0.0169834 ],\n",
       "        [ 0.0207139 ,  0.17246564, -0.07177749],\n",
       "        [ 0.08255519,  0.06229673,  0.17575346],\n",
       "        [-0.209084  , -0.16239895, -0.00980911],\n",
       "        [-0.07366449,  0.02101391, -0.16136058],\n",
       "        [ 0.2026271 , -0.10113509,  0.21189621],\n",
       "        [-0.19152737, -0.1928539 , -0.19436708],\n",
       "        [-0.07893685,  0.09114858, -0.20614843],\n",
       "        [-0.03797078,  0.06098375, -0.09809458],\n",
       "        [-0.15405399, -0.02125354,  0.18768962],\n",
       "        [ 0.02797376, -0.07268274,  0.20836765],\n",
       "        [ 0.15723938, -0.02166571,  0.17546178],\n",
       "        [ 0.13405167, -0.04570921, -0.06174355],\n",
       "        [ 0.02453172, -0.02710256,  0.15073189],\n",
       "        [-0.02322098, -0.18503338,  0.08610661],\n",
       "        [ 0.19777204,  0.02581876,  0.00069605],\n",
       "        [-0.1890543 , -0.00343948, -0.18552558],\n",
       "        [ 0.16457333,  0.12693304,  0.17470652],\n",
       "        [-0.01708374,  0.21023306,  0.03656996],\n",
       "        [ 0.01606448,  0.00804134,  0.18762839],\n",
       "        [ 0.0702911 , -0.07313867,  0.20109552],\n",
       "        [-0.21552601, -0.16298668,  0.03471154],\n",
       "        [ 0.11223958,  0.14339076,  0.07799558],\n",
       "        [-0.0404243 , -0.13216846, -0.09115238],\n",
       "        [-0.11583964, -0.12120242, -0.0704352 ],\n",
       "        [ 0.03777546, -0.02769978,  0.18342456],\n",
       "        [ 0.1157178 ,  0.13280974,  0.17614676],\n",
       "        [ 0.07741204,  0.01088183, -0.04140035],\n",
       "        [-0.18073542, -0.07353725,  0.1312455 ],\n",
       "        [-0.1106697 , -0.06687343, -0.18347286]], dtype=float32),\n",
       " array([ 0.00279007,  0.00223478, -0.00502485], dtype=float32)]"
      ]
     },
     "execution_count": 42,
     "metadata": {},
     "output_type": "execute_result"
    }
   ],
   "source": [
    "model_sgd.get_weights()"
   ]
  },
  {
   "cell_type": "code",
   "execution_count": 43,
   "metadata": {},
   "outputs": [],
   "source": [
    "weights_sgd = model_sgd.get_weights()[0]\n",
    "\n",
    "class1_sgd = weights_sgd[:,0]\n",
    "class2_sgd = weights_sgd[:,1]\n",
    "class3_sgd = weights_sgd[:,2]"
   ]
  },
  {
   "cell_type": "code",
   "execution_count": 44,
   "metadata": {},
   "outputs": [
    {
     "data": {
      "image/png": "[encoded data removed]",
      "text/plain": [
       "<Figure size 432x288 with 1 Axes>"
      ]
     },
     "metadata": {},
     "output_type": "display_data"
    }
   ],
   "source": [
    "plt.imshow(class1_sgd.reshape(IMAGE_SIZE,IMAGE_SIZE), cmap = 'gray')\n",
    "plt.show()"
   ]
  },
  {
   "cell_type": "code",
   "execution_count": 45,
   "metadata": {},
   "outputs": [
    {
     "data": {
      "image/png": "[encoded data removed]",
      "text/plain": [
       "<Figure size 432x288 with 1 Axes>"
      ]
     },
     "metadata": {},
     "output_type": "display_data"
    }
   ],
   "source": [
    "plt.imshow(class2_sgd.reshape(IMAGE_SIZE,IMAGE_SIZE), cmap = 'gray')\n",
    "plt.show()"
   ]
  },
  {
   "cell_type": "code",
   "execution_count": 46,
   "metadata": {},
   "outputs": [
    {
     "data": {
      "image/png": "[encoded data removed]",
      "text/plain": [
       "<Figure size 432x288 with 1 Axes>"
      ]
     },
     "metadata": {},
     "output_type": "display_data"
    }
   ],
   "source": [
    "plt.imshow(class3_sgd.reshape(IMAGE_SIZE,IMAGE_SIZE), cmap = 'gray')\n",
    "plt.show()"
   ]
  },
  {
   "cell_type": "code",
   "execution_count": 41,
   "metadata": {},
   "outputs": [
    {
     "name": "stdout",
     "output_type": "stream",
     "text": [
      "Train on 225 samples, validate on 75 samples\n",
      "Epoch 1/20\n",
      "225/225 [==============================] - 1s 4ms/step - loss: 0.2017 - acc: 0.4711 - val_loss: 0.3269 - val_acc: 0.2267\n",
      "Epoch 2/20\n",
      "225/225 [==============================] - 0s 980us/step - loss: 0.1737 - acc: 0.6267 - val_loss: 0.2569 - val_acc: 0.4267\n",
      "Epoch 3/20\n",
      "225/225 [==============================] - 0s 975us/step - loss: 0.1521 - acc: 0.6800 - val_loss: 0.2137 - val_acc: 0.4400\n",
      "Epoch 4/20\n",
      "225/225 [==============================] - 0s 940us/step - loss: 0.1492 - acc: 0.6889 - val_loss: 0.2179 - val_acc: 0.4000\n",
      "Epoch 5/20\n",
      "225/225 [==============================] - 0s 966us/step - loss: 0.1453 - acc: 0.6978 - val_loss: 0.1872 - val_acc: 0.5333\n",
      "Epoch 6/20\n",
      "225/225 [==============================] - 0s 962us/step - loss: 0.1330 - acc: 0.7111 - val_loss: 0.3803 - val_acc: 0.2267\n",
      "Epoch 7/20\n",
      "225/225 [==============================] - 0s 984us/step - loss: 0.1329 - acc: 0.7111 - val_loss: 0.2826 - val_acc: 0.4000\n",
      "Epoch 8/20\n",
      "225/225 [==============================] - 0s 962us/step - loss: 0.1502 - acc: 0.7200 - val_loss: 0.1908 - val_acc: 0.6267\n",
      "Epoch 9/20\n",
      "225/225 [==============================] - 0s 918us/step - loss: 0.1165 - acc: 0.7822 - val_loss: 0.1911 - val_acc: 0.6267\n",
      "Epoch 10/20\n",
      "225/225 [==============================] - 0s 949us/step - loss: 0.1151 - acc: 0.7600 - val_loss: 0.1959 - val_acc: 0.6267\n",
      "Epoch 11/20\n",
      "225/225 [==============================] - 0s 962us/step - loss: 0.1105 - acc: 0.7956 - val_loss: 0.1891 - val_acc: 0.6000\n",
      "Epoch 12/20\n",
      "225/225 [==============================] - 0s 1ms/step - loss: 0.1075 - acc: 0.8267 - val_loss: 0.1777 - val_acc: 0.6533\n",
      "Epoch 13/20\n",
      "225/225 [==============================] - 0s 984us/step - loss: 0.0949 - acc: 0.8444 - val_loss: 0.1132 - val_acc: 0.8667\n",
      "Epoch 14/20\n",
      "225/225 [==============================] - 0s 1ms/step - loss: 0.0806 - acc: 0.9289 - val_loss: 0.1090 - val_acc: 0.8000\n",
      "Epoch 15/20\n",
      "225/225 [==============================] - 0s 1ms/step - loss: 0.0877 - acc: 0.8267 - val_loss: 0.2624 - val_acc: 0.5067\n",
      "Epoch 16/20\n",
      "225/225 [==============================] - 0s 1ms/step - loss: 0.0825 - acc: 0.8578 - val_loss: 0.1759 - val_acc: 0.6000\n",
      "Epoch 17/20\n",
      "225/225 [==============================] - 0s 1ms/step - loss: 0.0802 - acc: 0.8756 - val_loss: 0.3183 - val_acc: 0.3733A: 0s - loss: 0.0797 - acc: 0.890\n",
      "Epoch 18/20\n",
      "225/225 [==============================] - 0s 1ms/step - loss: 0.1057 - acc: 0.7689 - val_loss: 0.1782 - val_acc: 0.6000\n",
      "Epoch 19/20\n",
      "225/225 [==============================] - 0s 922us/step - loss: 0.0829 - acc: 0.8178 - val_loss: 0.2356 - val_acc: 0.5200\n",
      "Epoch 20/20\n",
      "225/225 [==============================] - 0s 922us/step - loss: 0.0874 - acc: 0.8444 - val_loss: 0.1224 - val_acc: 0.7333\n"
     ]
    },
    {
     "data": {
      "image/png": "[encoded data removed]",
      "text/plain": [
       "<Figure size 432x288 with 1 Axes>"
      ]
     },
     "metadata": {},
     "output_type": "display_data"
    },
    {
     "data": {
      "image/png": "[encoded data removed]",
      "text/plain": [
       "<Figure size 432x288 with 1 Axes>"
      ]
     },
     "metadata": {},
     "output_type": "display_data"
    }
   ],
   "source": [
    "# We will now plot the accuracy and loss function values for the neural network models for different epochs \n",
    "model_sgd = Sequential()\n",
    "model_sgd.add(Dense(neurons, activation='relu'))\n",
    "model_sgd.add(Dense(neurons, activation='relu'))\n",
    "model_sgd.add(Dense(neurons, activation='relu'))\n",
    "model_sgd.add(Dense(3, activation='softmax'))\n",
    "\n",
    "sgd = optimizers.SGD(lr=0.01, decay=1e-6, momentum=0.9, nesterov=True)\n",
    "\n",
    "model_sgd.compile(loss='categorical_crossentropy', optimizer='sgd', metrics=['acc'])\n",
    "\n",
    "history = model_sgd.fit(X_train, Y_train, validation_split=0.25, epochs=20, batch_size=16, verbose=1)\n",
    "\n",
    "# Plot training & validation accuracy values\n",
    "plt.plot(history.history['acc'])\n",
    "plt.plot(history.history['val_acc'])\n",
    "plt.title('Model accuracy')\n",
    "plt.ylabel('Accuracy')\n",
    "plt.xlabel('Epoch')\n",
    "plt.legend(['Train', 'Test'], loc='upper left')\n",
    "plt.show()\n",
    "\n",
    "# Plot training & validation loss values\n",
    "plt.plot(history.history['loss'])\n",
    "plt.plot(history.history['val_loss'])\n",
    "plt.title('Model loss')\n",
    "plt.ylabel('Loss')\n",
    "plt.xlabel('Epoch')\n",
    "plt.legend(['Train', 'Test'], loc='upper left')\n",
    "plt.show()"
   ]
  },
  {
   "cell_type": "markdown",
   "metadata": {},
   "source": [
    "Now let us visualize the 3 columns of the predicted values of the Adam Optimizer model"
   ]
  },
  {
   "cell_type": "code",
   "execution_count": 31,
   "metadata": {},
   "outputs": [
    {
     "data": {
      "text/plain": [
       "[array([[-0.00316599, -0.03147669, -0.03680748, ...,  0.00699421,\n",
       "          0.01352433, -0.02867492],\n",
       "        [-0.02609783,  0.00882567,  0.02690132, ...,  0.00354995,\n",
       "         -0.03090111, -0.00725807],\n",
       "        [-0.03237803, -0.03263774, -0.0142345 , ..., -0.03309394,\n",
       "         -0.00885271,  0.0005224 ],\n",
       "        ...,\n",
       "        [ 0.0137181 , -0.03448808, -0.01432441, ..., -0.03537082,\n",
       "         -0.01723068,  0.01660337],\n",
       "        [-0.02719125,  0.0045346 ,  0.02451446, ..., -0.02501553,\n",
       "         -0.02540212, -0.03079867],\n",
       "        [-0.02114446, -0.03395757, -0.02203007, ...,  0.00322467,\n",
       "          0.017471  , -0.00784349]], dtype=float32),\n",
       " array([ 0.        , -0.00549891, -0.00568477, -0.00570181, -0.00292582,\n",
       "        -0.0056504 ,  0.        ,  0.00326009, -0.00570365, -0.00244545,\n",
       "        -0.00323512, -0.0057192 , -0.00570964, -0.00571852, -0.00549758,\n",
       "         0.        , -0.00786344, -0.00570332,  0.        , -0.00571655,\n",
       "        -0.00074079, -0.00332478, -0.00020263, -0.00476839, -0.003726  ,\n",
       "        -0.00525274, -0.00569233,  0.        , -0.00569184,  0.00098532,\n",
       "        -0.00456662,  0.00312799,  0.        , -0.00570659, -0.00551033,\n",
       "         0.        ,  0.00433072,  0.        , -0.00062342, -0.00566516,\n",
       "        -0.00566666,  0.00017679,  0.        ,  0.        ,  0.        ,\n",
       "        -0.00571485,  0.        ,  0.00313214, -0.00570839,  0.        ,\n",
       "        -0.00349163, -0.00569378, -0.00601333, -0.00233367,  0.00027396,\n",
       "        -0.00570679,  0.        ,  0.        ,  0.00144785, -0.00450842,\n",
       "        -0.00572046,  0.        , -0.00570245, -0.00571097,  0.00060931,\n",
       "        -0.00571484,  0.00171935, -0.00361564, -0.00571904, -0.0056099 ,\n",
       "        -0.0057124 ,  0.00921122, -0.0056821 , -0.00568256, -0.00517887,\n",
       "         0.        , -0.0057052 , -0.0043178 ,  0.00154744, -0.00462601,\n",
       "        -0.00486747,  0.00037862, -0.00571639, -0.00571774, -0.00571955,\n",
       "        -0.00427023, -0.00519155,  0.        ,  0.00387358,  0.        ,\n",
       "         0.00014286, -0.00629444, -0.00330186,  0.        ,  0.        ,\n",
       "        -0.00260629,  0.00207905, -0.00572192,  0.        ,  0.        ,\n",
       "         0.        , -0.00571946,  0.        ,  0.        ,  0.00383514,\n",
       "        -0.00571668, -0.00559014,  0.        ,  0.        , -0.00570601,\n",
       "         0.00716764, -0.00560857, -0.00649351, -0.00570845, -0.00192952,\n",
       "         0.00374191, -0.0044699 ,  0.        ,  0.        , -0.0056677 ,\n",
       "         0.0033565 ,  0.        ,  0.        , -0.00420991, -0.00569976,\n",
       "        -0.00445512,  0.        , -0.0057202 ], dtype=float32),\n",
       " array([[-0.1385008 ,  0.13160644,  0.08894342, ..., -0.13300878,\n",
       "          0.14450516,  0.1358308 ],\n",
       "        [-0.05935808, -0.10931382,  0.03721268, ...,  0.01706708,\n",
       "         -0.1346554 ,  0.08321472],\n",
       "        [ 0.07833518, -0.05055454,  0.02547494, ..., -0.10490314,\n",
       "          0.14568837,  0.01418181],\n",
       "        ...,\n",
       "        [-0.03847659, -0.04334247,  0.08474834, ...,  0.07931123,\n",
       "          0.11886622, -0.00213625],\n",
       "        [ 0.14534642, -0.02556609,  0.07085179, ..., -0.11118215,\n",
       "         -0.13652204,  0.04512058],\n",
       "        [-0.1452683 , -0.1330067 , -0.08707505, ...,  0.09124967,\n",
       "         -0.02428836, -0.09870752]], dtype=float32),\n",
       " array([-7.7769561e-03,  2.9750490e-03,  0.0000000e+00, -5.7181981e-03,\n",
       "        -3.1101852e-05,  0.0000000e+00,  4.3176813e-04, -8.9120641e-03,\n",
       "        -3.0931348e-03, -2.4086805e-03,  5.0858026e-03, -5.7022325e-03,\n",
       "         0.0000000e+00,  4.6947957e-03, -6.5029026e-03, -2.5903445e-03,\n",
       "        -3.4239254e-04, -5.7155676e-03, -5.6936205e-03, -1.3128638e-03,\n",
       "         5.0392249e-03, -5.7191229e-03, -2.5753190e-03,  7.3569163e-04,\n",
       "         0.0000000e+00, -5.7067713e-03, -1.0363341e-03,  0.0000000e+00,\n",
       "         6.0425857e-03, -5.3677191e-03, -3.6469169e-03, -4.4144518e-03,\n",
       "         4.1840567e-06, -5.0200070e-03, -6.9921082e-03, -5.6358674e-03,\n",
       "         1.3996460e-03,  3.4072797e-04,  0.0000000e+00, -2.6756779e-03,\n",
       "         0.0000000e+00, -5.0039827e-03, -4.9361307e-03,  0.0000000e+00,\n",
       "        -4.1152234e-03,  1.2046016e-02,  0.0000000e+00,  0.0000000e+00,\n",
       "        -5.5305329e-03, -6.1454033e-03,  2.3416134e-03, -7.9280064e-03,\n",
       "         2.4479141e-03, -4.7193985e-03,  0.0000000e+00, -4.4240952e-03,\n",
       "         1.0102019e-02, -1.0757179e-02, -4.9390704e-03,  8.0940668e-03,\n",
       "         4.7802376e-03, -2.1906078e-03,  2.1190131e-03,  2.4488338e-03,\n",
       "        -1.0575840e-02, -2.6189089e-03, -2.9538493e-03, -1.7276676e-03,\n",
       "         1.3798999e-03,  0.0000000e+00,  1.2714587e-03, -3.0644946e-03,\n",
       "        -4.9287477e-03, -5.6181308e-03,  3.8916848e-04,  0.0000000e+00,\n",
       "         4.9507775e-04, -5.9682219e-03, -7.2753183e-03,  4.8983023e-03,\n",
       "         0.0000000e+00,  1.7869147e-03, -7.4952701e-03,  2.7884163e-03,\n",
       "         1.1582028e-03, -4.4225291e-03,  0.0000000e+00, -5.9843808e-03,\n",
       "         1.8251941e-03,  0.0000000e+00, -5.7133851e-03,  0.0000000e+00,\n",
       "        -5.7149725e-03, -3.2709339e-03,  2.5536370e-04,  4.2427052e-03,\n",
       "        -2.9452529e-03, -3.4477247e-03, -2.1811458e-03,  0.0000000e+00,\n",
       "         0.0000000e+00, -4.2627971e-03, -6.9112959e-03,  2.6862181e-03,\n",
       "         1.1403191e-02, -5.6121810e-03,  1.7002402e-03,  0.0000000e+00,\n",
       "        -2.9708154e-03, -5.6948140e-03,  2.7650509e-03,  0.0000000e+00,\n",
       "         5.4341177e-03, -8.3707813e-03,  9.9365450e-03,  0.0000000e+00,\n",
       "         5.8732717e-03,  1.1812426e-03, -7.2021428e-03,  0.0000000e+00,\n",
       "         5.5364873e-03, -4.4195545e-03,  4.0066312e-03, -3.6220611e-03,\n",
       "        -4.7013289e-03,  7.1106576e-03, -1.5555905e-03, -4.3866578e-03],\n",
       "       dtype=float32),\n",
       " array([[-0.07982275, -0.00043084, -0.0183142 , ...,  0.0432694 ,\n",
       "         -0.14106195,  0.14824931],\n",
       "        [-0.03679968,  0.04622594,  0.05218932, ...,  0.13462012,\n",
       "         -0.00744455,  0.16015397],\n",
       "        [ 0.08867347, -0.06543446,  0.01530817, ...,  0.01513588,\n",
       "          0.10707851,  0.01844281],\n",
       "        ...,\n",
       "        [ 0.12675574, -0.08871828,  0.00259528, ..., -0.10033233,\n",
       "         -0.11456989, -0.03746469],\n",
       "        [ 0.09500469,  0.08638626, -0.00464531, ..., -0.13060911,\n",
       "         -0.05347811,  0.04136465],\n",
       "        [-0.04680628,  0.08407915,  0.06122819, ..., -0.07253572,\n",
       "          0.04624675,  0.15817647]], dtype=float32),\n",
       " array([ 3.80327413e-03,  1.01471401e-03, -4.20815172e-03,  0.00000000e+00,\n",
       "        -3.49266757e-03, -9.94941438e-05,  1.42319198e-03, -1.52925320e-03,\n",
       "        -2.81636300e-03,  0.00000000e+00,  2.97668809e-03,  5.38739143e-03,\n",
       "        -5.54577215e-03, -5.71077317e-03,  8.59748013e-03, -5.47747035e-03,\n",
       "         2.06152978e-03, -5.44784684e-03,  4.98038658e-04, -4.46368381e-03,\n",
       "        -2.32001083e-04,  4.54295333e-03,  1.68646125e-06, -1.84697025e-02,\n",
       "         0.00000000e+00, -2.88209901e-03, -4.75206971e-03, -1.45937304e-03,\n",
       "        -7.71497143e-03,  2.49029021e-03,  7.08466442e-03, -5.71363652e-03,\n",
       "         0.00000000e+00,  3.74389836e-03,  2.10305583e-03,  9.08224669e-04,\n",
       "        -3.80087341e-03,  0.00000000e+00,  0.00000000e+00,  1.69620488e-03,\n",
       "         5.59607055e-04,  0.00000000e+00, -5.66385547e-03, -1.67391961e-03,\n",
       "        -3.33975721e-03,  0.00000000e+00, -2.57022155e-04,  0.00000000e+00,\n",
       "        -7.98438583e-03, -7.92177301e-03, -5.68927359e-03,  2.16172030e-03,\n",
       "        -5.72377443e-03,  2.01053265e-03, -4.04220918e-04, -2.74000852e-03,\n",
       "        -9.08755581e-04,  2.79354583e-03,  3.57647688e-04, -1.02516344e-04,\n",
       "         5.00925118e-03,  0.00000000e+00,  5.17473137e-03, -2.73880549e-03,\n",
       "         6.23567321e-04, -1.36721143e-02, -5.53271081e-03,  3.40049318e-03,\n",
       "        -1.52281893e-03,  2.34394521e-03, -9.31892020e-04, -2.40709400e-03,\n",
       "        -4.25276812e-03, -1.96339143e-03,  0.00000000e+00, -3.69417924e-03,\n",
       "        -5.53233968e-03,  6.90087269e-04, -2.00976129e-03, -3.43841006e-04,\n",
       "        -6.04628818e-03,  4.23633214e-03, -5.72136650e-03, -5.14278049e-03,\n",
       "        -1.74830202e-04, -3.81127954e-03, -1.03368005e-02,  1.44674408e-03,\n",
       "        -4.70845867e-03,  4.47581615e-03,  5.72883151e-03, -3.83506948e-03,\n",
       "         8.09811614e-03,  4.23975260e-04, -2.50191009e-03, -3.66284349e-03,\n",
       "        -7.44024385e-03,  2.23821821e-03,  1.21930393e-03,  0.00000000e+00,\n",
       "         2.05377606e-03,  4.07877518e-03,  0.00000000e+00, -7.93629512e-03,\n",
       "         1.83816813e-03, -8.98900325e-05,  3.83873447e-03,  0.00000000e+00,\n",
       "         4.41553956e-03, -7.28294998e-03, -7.74634536e-04, -4.75043635e-04,\n",
       "        -2.91652861e-03, -6.03734702e-03,  3.18254321e-03,  6.02763239e-03,\n",
       "         0.00000000e+00, -5.72372321e-03,  1.36538176e-04, -5.11009106e-03,\n",
       "        -5.95191668e-04, -1.15141170e-02, -6.13290723e-03, -6.92873145e-04,\n",
       "         2.32660444e-03, -5.53236855e-03,  0.00000000e+00,  2.45151948e-03],\n",
       "       dtype=float32),\n",
       " array([[ 8.87308791e-02, -1.75983563e-01, -1.59076199e-01],\n",
       "        [ 1.57352924e-01, -1.40369711e-02,  9.44686830e-02],\n",
       "        [-1.11160435e-01,  4.94075418e-02,  1.97987467e-01],\n",
       "        [-1.97051644e-01,  1.90313309e-02, -9.15817991e-02],\n",
       "        [ 1.57400146e-01,  1.69808030e-01,  1.81016922e-01],\n",
       "        [ 1.30592495e-01,  1.81847453e-01, -1.00951016e-01],\n",
       "        [ 1.79110523e-02,  4.23095450e-02,  1.48940161e-01],\n",
       "        [ 3.32780816e-02, -3.53039466e-02,  4.84064315e-03],\n",
       "        [ 2.17555836e-02,  1.41656116e-01,  1.07109718e-01],\n",
       "        [-6.26214296e-02, -1.15577780e-01, -4.87176776e-02],\n",
       "        [-1.69193149e-01,  1.87167779e-01,  5.39927892e-02],\n",
       "        [ 2.01384872e-01,  1.50112450e-01, -1.92272156e-01],\n",
       "        [-1.87366650e-01,  1.73593357e-01, -1.18786395e-01],\n",
       "        [ 1.79975346e-01,  9.99578312e-02, -1.79672122e-01],\n",
       "        [-1.91434205e-01, -1.22674026e-01, -2.10239798e-01],\n",
       "        [-1.46129325e-01, -3.75182480e-02, -2.14323122e-02],\n",
       "        [ 1.26888379e-01,  8.96232724e-02, -1.41393900e-01],\n",
       "        [ 9.29046497e-02,  2.85636894e-02,  1.04831040e-01],\n",
       "        [-5.31472526e-02, -6.56610206e-02, -1.33274823e-01],\n",
       "        [-8.58297721e-02,  1.76954135e-01, -2.87728850e-02],\n",
       "        [-1.26710638e-01, -1.89329967e-01,  1.40271232e-01],\n",
       "        [-6.84208516e-03,  1.47916481e-01, -2.01954365e-01],\n",
       "        [ 1.33348957e-01,  1.58620298e-01, -3.50215249e-02],\n",
       "        [ 2.03192174e-01, -1.35379821e-01,  2.10780218e-01],\n",
       "        [-1.98395103e-02, -6.96003884e-02,  1.02892533e-01],\n",
       "        [-1.89705998e-01, -1.57070160e-01, -8.46934021e-02],\n",
       "        [ 8.50522369e-02,  1.24572255e-01,  8.89496654e-02],\n",
       "        [-1.56757295e-01, -3.89525965e-02,  4.70929965e-02],\n",
       "        [-1.93578854e-01, -1.67525545e-01, -1.56564280e-01],\n",
       "        [-1.89396024e-01,  9.27357525e-02,  7.53931776e-02],\n",
       "        [ 5.67123555e-02, -1.20730557e-01, -1.19108275e-01],\n",
       "        [ 3.96456309e-02,  5.08872345e-02, -9.50065330e-02],\n",
       "        [-1.61466494e-01,  1.37517408e-01,  1.00188240e-01],\n",
       "        [ 2.18261242e-01, -9.98959914e-02,  8.60598981e-02],\n",
       "        [ 5.69270104e-02,  4.70434595e-03, -3.48363295e-02],\n",
       "        [-6.75194710e-02, -4.32682373e-02,  1.45540908e-01],\n",
       "        [-1.95022851e-01, -1.22412764e-01,  5.09066358e-02],\n",
       "        [ 1.94815233e-01,  1.47475317e-01,  1.27954111e-01],\n",
       "        [-1.52862713e-01, -6.03868067e-02, -8.94584656e-02],\n",
       "        [ 1.52993888e-01, -1.30628750e-01, -3.59745626e-03],\n",
       "        [ 2.86773667e-02,  8.24650005e-02, -2.05629289e-01],\n",
       "        [-1.16229668e-01, -1.39656067e-02,  1.03629336e-01],\n",
       "        [-7.49177411e-02,  1.20889708e-01, -1.84392899e-01],\n",
       "        [-3.32963802e-02,  1.00541785e-01,  2.19579600e-02],\n",
       "        [-1.10782564e-01, -8.28911588e-02, -4.28052656e-02],\n",
       "        [-1.78048998e-01,  7.71194249e-02,  1.28768221e-01],\n",
       "        [ 1.53576627e-01, -7.27257952e-02,  1.22890040e-01],\n",
       "        [ 3.07919979e-02, -1.22072652e-01, -7.60583133e-02],\n",
       "        [ 1.74747899e-01, -3.00366543e-02,  1.47907302e-01],\n",
       "        [ 1.63375512e-01, -1.88676268e-01,  7.70864934e-02],\n",
       "        [ 1.67621076e-01,  1.61636755e-01,  4.35621813e-02],\n",
       "        [ 9.96116176e-02,  1.31708503e-01, -8.51349160e-03],\n",
       "        [ 1.51884168e-01, -9.52830911e-02,  1.37862623e-01],\n",
       "        [ 1.78115204e-01,  1.82224303e-01, -1.09377004e-01],\n",
       "        [-7.46222138e-02,  1.48639858e-01, -5.77706061e-02],\n",
       "        [ 6.00387678e-02,  1.47090897e-01,  1.94532141e-01],\n",
       "        [-9.67372656e-02, -1.42906234e-01,  2.60076728e-02],\n",
       "        [ 1.38342217e-01, -1.70315318e-02, -2.66557764e-02],\n",
       "        [-1.52958363e-01, -1.77832991e-01, -1.35573983e-01],\n",
       "        [ 2.87823975e-02, -1.45605758e-01,  9.76300612e-02],\n",
       "        [ 1.82242930e-01, -5.01504093e-02, -2.06984073e-01],\n",
       "        [-7.67605156e-02,  7.38384873e-02, -1.78495154e-01],\n",
       "        [ 1.44319966e-01,  1.68054372e-01,  2.79956292e-02],\n",
       "        [-2.03925014e-01, -5.67415357e-02,  1.54937461e-01],\n",
       "        [ 5.41615523e-02, -1.62908152e-01,  6.67665328e-04],\n",
       "        [ 4.87566814e-02, -1.60076290e-01,  1.22500747e-01],\n",
       "        [-1.70845091e-01,  1.52971387e-01,  7.92687759e-02],\n",
       "        [ 1.81028485e-01, -1.00141443e-01, -1.60185192e-02],\n",
       "        [-2.59734523e-02, -9.96914357e-02,  2.11092934e-01],\n",
       "        [ 8.11332166e-02, -1.34161249e-01, -2.02884644e-01],\n",
       "        [ 7.92152584e-02, -1.26112208e-01,  1.88524663e-01],\n",
       "        [-1.93651631e-01,  1.80678785e-01,  1.41778722e-01],\n",
       "        [-6.45310804e-02, -8.24635401e-02, -4.60205413e-02],\n",
       "        [-1.90958545e-01, -1.83437228e-01,  1.30074881e-02],\n",
       "        [ 6.30191714e-02,  1.68295071e-01, -2.18294114e-02],\n",
       "        [-1.01857148e-01,  1.85990393e-01, -6.11226521e-02],\n",
       "        [-6.64971769e-02,  7.43355229e-02, -6.34569973e-02],\n",
       "        [ 3.20541114e-02,  1.90175861e-01, -8.14786404e-02],\n",
       "        [ 6.06290884e-02,  1.97581127e-02,  1.67464346e-01],\n",
       "        [ 1.11923397e-01,  2.41254084e-03,  1.29918233e-01],\n",
       "        [-4.47869152e-02,  4.06399928e-02,  1.92729488e-01],\n",
       "        [-1.96838770e-02,  1.24672182e-01, -8.03206861e-02],\n",
       "        [-1.47938937e-01, -1.62145197e-01,  1.27310589e-01],\n",
       "        [ 5.88941202e-03, -2.47726627e-02,  8.20702016e-02],\n",
       "        [-5.98469898e-02, -1.12112395e-01,  3.30980830e-02],\n",
       "        [ 3.34362052e-02,  1.36376724e-01,  1.39136910e-01],\n",
       "        [ 3.33393067e-02, -1.16068207e-01, -1.10761881e-01],\n",
       "        [ 1.30934343e-01,  2.08646387e-01, -3.59233953e-02],\n",
       "        [ 1.31949708e-01,  1.52526468e-01,  1.89999446e-01],\n",
       "        [-1.27176970e-01,  2.07641214e-01,  1.45490721e-01],\n",
       "        [-2.02087075e-01,  2.94836331e-02, -1.19326375e-01],\n",
       "        [-6.82128267e-03, -4.55009826e-02, -9.21136588e-02],\n",
       "        [ 9.35537517e-02,  2.91921236e-02, -2.68439576e-02],\n",
       "        [-8.51230696e-02, -1.13367036e-01,  1.15736779e-02],\n",
       "        [-1.02335520e-01,  1.58067942e-01,  1.57929510e-01],\n",
       "        [-1.07200526e-01,  1.81202576e-01, -1.86045974e-01],\n",
       "        [ 1.99692816e-01,  1.89075336e-01,  7.05453157e-02],\n",
       "        [-3.92028615e-02, -1.30663708e-01, -1.69304863e-01],\n",
       "        [ 2.28433967e-01, -7.87489861e-02,  6.66573197e-02],\n",
       "        [ 1.09520033e-01,  1.43411025e-01, -8.42044055e-02],\n",
       "        [ 1.84831306e-01,  1.85615003e-01, -7.49903917e-02],\n",
       "        [ 2.06258684e-01,  3.17216478e-02, -1.44225299e-01],\n",
       "        [ 1.13102868e-01, -1.06901906e-01,  1.83570385e-02],\n",
       "        [ 9.07361209e-02,  7.87794068e-02,  1.02506749e-01],\n",
       "        [ 1.00486055e-02,  1.26200076e-02, -1.02926828e-01],\n",
       "        [ 5.19657098e-02, -1.60442352e-01,  3.55295911e-02],\n",
       "        [ 1.14683822e-01, -9.66757461e-02,  1.21307455e-01],\n",
       "        [-4.97027636e-02,  1.18003860e-01, -7.23241866e-02],\n",
       "        [-8.44929144e-02,  1.81534030e-02,  9.13132727e-02],\n",
       "        [ 1.60337135e-01, -7.77614340e-02,  2.05732062e-01],\n",
       "        [ 1.55414529e-02,  6.90237209e-02,  2.15523943e-01],\n",
       "        [ 6.89359158e-02, -2.21821275e-02,  1.30191535e-01],\n",
       "        [ 4.33497056e-02, -1.71218574e-01, -4.15723473e-02],\n",
       "        [ 1.91146076e-01, -8.29138383e-02,  1.52745068e-01],\n",
       "        [-3.79290767e-02,  5.65015376e-02, -1.29854664e-01],\n",
       "        [-6.03535213e-02, -1.35772273e-01, -1.27644107e-01],\n",
       "        [ 1.68095067e-01,  1.12583742e-01,  1.33147135e-01],\n",
       "        [ 1.77919760e-01, -1.12201951e-01,  1.73322484e-01],\n",
       "        [ 1.52480528e-01,  8.83023664e-02,  1.68534473e-01],\n",
       "        [-5.73560521e-02,  1.82368271e-02,  6.34784205e-03],\n",
       "        [ 1.70661852e-01,  1.63412943e-01,  8.06100368e-02],\n",
       "        [-1.95035383e-01,  3.53321955e-02,  1.73699111e-04],\n",
       "        [-1.81610718e-01, -1.51508003e-01, -5.37876301e-02],\n",
       "        [ 3.70782875e-02, -4.41847853e-02, -3.46177109e-02],\n",
       "        [-8.35883766e-02, -1.24974750e-01, -1.39741949e-03],\n",
       "        [ 4.50924635e-02,  1.58315554e-01, -1.72253363e-02],\n",
       "        [-2.13173851e-01,  1.27938554e-01, -1.40355408e-01],\n",
       "        [-4.81518619e-02, -1.68982476e-01,  1.56283304e-01]], dtype=float32),\n",
       " array([ 2.3807597e-03, -1.8703591e-05, -2.1573748e-03], dtype=float32)]"
      ]
     },
     "execution_count": 31,
     "metadata": {},
     "output_type": "execute_result"
    }
   ],
   "source": [
    "model_adm.get_weights()"
   ]
  },
  {
   "cell_type": "code",
   "execution_count": 32,
   "metadata": {},
   "outputs": [],
   "source": [
    "weights = model_adm.get_weights()[0]\n",
    "\n",
    "class1 = weights[:,0]\n",
    "class2 = weights[:,1]\n",
    "class3 = weights[:,2]"
   ]
  },
  {
   "cell_type": "code",
   "execution_count": 33,
   "metadata": {},
   "outputs": [
    {
     "data": {
      "image/png": "[encoded data removed]",
      "text/plain": [
       "<Figure size 432x288 with 1 Axes>"
      ]
     },
     "metadata": {},
     "output_type": "display_data"
    }
   ],
   "source": [
    "plt.imshow(class1.reshape(IMAGE_SIZE,IMAGE_SIZE), cmap = 'gray')\n",
    "plt.show()"
   ]
  },
  {
   "cell_type": "code",
   "execution_count": 34,
   "metadata": {},
   "outputs": [
    {
     "data": {
      "image/png": "[encoded data removed]",
      "text/plain": [
       "<Figure size 432x288 with 1 Axes>"
      ]
     },
     "metadata": {},
     "output_type": "display_data"
    }
   ],
   "source": [
    "plt.imshow(class2.reshape(IMAGE_SIZE,IMAGE_SIZE), cmap = 'gray')\n",
    "plt.show()"
   ]
  },
  {
   "cell_type": "code",
   "execution_count": 35,
   "metadata": {
    "scrolled": true
   },
   "outputs": [
    {
     "data": {
      "image/png": "[encoded data removed]",
      "text/plain": [
       "<Figure size 432x288 with 1 Axes>"
      ]
     },
     "metadata": {},
     "output_type": "display_data"
    }
   ],
   "source": [
    "plt.imshow(class3.reshape(IMAGE_SIZE,IMAGE_SIZE), cmap = 'gray')\n",
    "plt.show()"
   ]
  },
  {
   "cell_type": "markdown",
   "metadata": {},
   "source": [
    "## 5. A more difficult Classification Problem"
   ]
  },
  {
   "cell_type": "markdown",
   "metadata": {},
   "source": [
    "Now we will work on developing a more complicated model with better performance with multiple depth of different layers"
   ]
  },
  {
   "cell_type": "code",
   "execution_count": 47,
   "metadata": {},
   "outputs": [
    {
     "name": "stdout",
     "output_type": "stream",
     "text": [
      "Creating data:\n",
      "0\n",
      "10\n",
      "20\n",
      "30\n",
      "40\n",
      "50\n",
      "60\n",
      "70\n",
      "80\n",
      "90\n",
      "100\n",
      "110\n",
      "120\n",
      "130\n",
      "140\n",
      "150\n",
      "160\n",
      "170\n",
      "180\n",
      "190\n",
      "200\n",
      "210\n",
      "220\n",
      "230\n",
      "240\n",
      "250\n",
      "260\n",
      "270\n",
      "280\n",
      "290\n"
     ]
    }
   ],
   "source": [
    "# Now, the shapes are allowed to move within the images and change dimensions, hence we give the parameter free_location as true\n",
    "[X_train, Y_train] = generate_dataset_classification(300, 20, True)"
   ]
  },
  {
   "cell_type": "code",
   "execution_count": 48,
   "metadata": {},
   "outputs": [
    {
     "name": "stdout",
     "output_type": "stream",
     "text": [
      "Creating data:\n",
      "0\n",
      "10\n",
      "20\n",
      "30\n",
      "40\n",
      "50\n",
      "60\n",
      "70\n",
      "80\n",
      "90\n",
      "100\n",
      "110\n",
      "120\n",
      "130\n",
      "140\n",
      "150\n",
      "160\n",
      "170\n",
      "180\n",
      "190\n",
      "200\n",
      "210\n",
      "220\n",
      "230\n",
      "240\n",
      "250\n",
      "260\n",
      "270\n",
      "280\n",
      "290\n"
     ]
    }
   ],
   "source": [
    "# Generating a random test sample images\n",
    "[X_test, Y_test] = generate_test_set_classification()"
   ]
  },
  {
   "cell_type": "code",
   "execution_count": 49,
   "metadata": {},
   "outputs": [],
   "source": [
    "Y_train = np_utils.to_categorical(Y_train, 3)"
   ]
  },
  {
   "cell_type": "code",
   "execution_count": 50,
   "metadata": {},
   "outputs": [
    {
     "data": {
      "text/plain": [
       "(300, 3)"
      ]
     },
     "execution_count": 50,
     "metadata": {},
     "output_type": "execute_result"
    }
   ],
   "source": [
    "Y_train.shape"
   ]
  },
  {
   "cell_type": "code",
   "execution_count": 51,
   "metadata": {},
   "outputs": [],
   "source": [
    "# Using the same set of features which we used to build our previous deep learning model: \n",
    "\n",
    "model = Sequential()\n",
    "model.add(Dense(64, activation='relu'))\n",
    "model.add(Dense(64, activation = 'relu'))\n",
    "model.add(Dense(64, activation = 'relu'))\n",
    "model.add(Dense(3, activation = 'softmax'))\n",
    "\n",
    "adam = optimizers.Adam(lr=0.001, beta_1=0.9, beta_2=0.999, epsilon=None, decay=0.0, amsgrad=False)\n",
    "\n",
    "model.compile(loss='categorical_crossentropy', optimizer='adam', metrics=['acc'])"
   ]
  },
  {
   "cell_type": "code",
   "execution_count": 52,
   "metadata": {},
   "outputs": [
    {
     "name": "stdout",
     "output_type": "stream",
     "text": [
      "Epoch 1/20\n",
      "300/300 [==============================] - 1s 3ms/step - loss: 0.2691 - acc: 0.3233\n",
      "Epoch 2/20\n",
      "300/300 [==============================] - 0s 568us/step - loss: 0.2643 - acc: 0.3767\n",
      "Epoch 3/20\n",
      "300/300 [==============================] - 0s 535us/step - loss: 0.2719 - acc: 0.4067\n",
      "Epoch 4/20\n",
      "300/300 [==============================] - 0s 565us/step - loss: 0.2652 - acc: 0.4000\n",
      "Epoch 5/20\n",
      "300/300 [==============================] - 0s 583us/step - loss: 0.2479 - acc: 0.5233\n",
      "Epoch 6/20\n",
      "300/300 [==============================] - 0s 562us/step - loss: 0.2442 - acc: 0.5000\n",
      "Epoch 7/20\n",
      "300/300 [==============================] - 0s 565us/step - loss: 0.2271 - acc: 0.5267\n",
      "Epoch 8/20\n",
      "300/300 [==============================] - 0s 664us/step - loss: 0.2029 - acc: 0.4933\n",
      "Epoch 9/20\n",
      "300/300 [==============================] - 0s 505us/step - loss: 0.1911 - acc: 0.5067\n",
      "Epoch 10/20\n",
      "300/300 [==============================] - 0s 538us/step - loss: 0.1730 - acc: 0.5800\n",
      "Epoch 11/20\n",
      "300/300 [==============================] - 0s 517us/step - loss: 0.1731 - acc: 0.5967\n",
      "Epoch 12/20\n",
      "300/300 [==============================] - 0s 650us/step - loss: 0.1731 - acc: 0.5967\n",
      "Epoch 13/20\n",
      "300/300 [==============================] - 0s 600us/step - loss: 0.1610 - acc: 0.6133\n",
      "Epoch 14/20\n",
      "300/300 [==============================] - ETA: 0s - loss: 0.1539 - acc: 0.642 - 0s 608us/step - loss: 0.1531 - acc: 0.6500\n",
      "Epoch 15/20\n",
      "300/300 [==============================] - 0s 524us/step - loss: 0.1605 - acc: 0.5900\n",
      "Epoch 16/20\n",
      "300/300 [==============================] - 0s 608us/step - loss: 0.1551 - acc: 0.6233\n",
      "Epoch 17/20\n",
      "300/300 [==============================] - 0s 588us/step - loss: 0.1523 - acc: 0.6300\n",
      "Epoch 18/20\n",
      "300/300 [==============================] - 0s 520us/step - loss: 0.1697 - acc: 0.5600 0s - loss: 0.1712 - acc: 0.554\n",
      "Epoch 19/20\n",
      "300/300 [==============================] - 0s 562us/step - loss: 0.1747 - acc: 0.5933\n",
      "Epoch 20/20\n",
      "300/300 [==============================] - 0s 669us/step - loss: 0.1437 - acc: 0.6367\n"
     ]
    },
    {
     "data": {
      "text/plain": [
       "<keras.callbacks.History at 0x1f504cda9e8>"
      ]
     },
     "execution_count": 52,
     "metadata": {},
     "output_type": "execute_result"
    }
   ],
   "source": [
    "model.fit(X_train, Y_train, epochs=20)"
   ]
  },
  {
   "cell_type": "code",
   "execution_count": 53,
   "metadata": {},
   "outputs": [
    {
     "name": "stdout",
     "output_type": "stream",
     "text": [
      "300/300 [==============================] - 0s 715us/step\n"
     ]
    },
    {
     "data": {
      "text/plain": [
       "[0.17055600146452585, 0.5833333333333334]"
      ]
     },
     "execution_count": 53,
     "metadata": {},
     "output_type": "execute_result"
    }
   ],
   "source": [
    "# Using the model.evaluate feature, we can assess the overall accuracy and loss of the model\n",
    "model.evaluate(X_test, Y_test) "
   ]
  },
  {
   "cell_type": "markdown",
   "metadata": {},
   "source": [
    "##### We are asked to build a deeper convoluted neural network with pooling layers and fully connected layers. In order for the vector to be fed into the model, we will have to reshape it to the desired format as follows"
   ]
  },
  {
   "cell_type": "code",
   "execution_count": 54,
   "metadata": {},
   "outputs": [],
   "source": [
    "X_train_rs = X_train.reshape(X_train.shape[0], IMAGE_SIZE, IMAGE_SIZE, 1)\n",
    "X_test_rs = X_test.reshape(X_test.shape[0], IMAGE_SIZE, IMAGE_SIZE, 1)"
   ]
  },
  {
   "cell_type": "code",
   "execution_count": 58,
   "metadata": {},
   "outputs": [],
   "source": [
    "# Create the neural network model with CNN, Pooling and Fully connected layers\n",
    "model_cnn = Sequential()\n",
    "#add model layers\n",
    "# Add the Convolutional Neural Network for 2D\n",
    "model_cnn.add(Conv2D(16, kernel_size=5, activation='relu'))\n",
    "\n",
    "#Add a pooling layer in between model\n",
    "model_cnn.add(MaxPooling2D(pool_size=(5, 5), strides=None, padding='valid', data_format=None))\n",
    "\n",
    "#Add the fully connected local layer in our neural network model\n",
    "model_cnn.add(LocallyConnected2D(16, kernel_size=5, strides=(1, 1), padding='valid', data_format=None, activation='softmax', use_bias=True, kernel_initializer='glorot_uniform', bias_initializer='zeros'))\n",
    "\n",
    "#Flatten the model in order to connect the convolutional layers to the Dense Core layer\n",
    "model_cnn.add(Flatten())\n",
    "\n",
    "# Add the final Dense core layer to finish the model\n",
    "model_cnn.add(Dense(3, activation='softmax'))\n",
    "\n",
    "\n",
    "#compile model using accuracy to measure model performance\n",
    "model_cnn.compile(optimizer='adam', loss='categorical_crossentropy', metrics=['acc'])"
   ]
  },
  {
   "cell_type": "code",
   "execution_count": 59,
   "metadata": {},
   "outputs": [
    {
     "name": "stdout",
     "output_type": "stream",
     "text": [
      "Epoch 1/20\n",
      "300/300 [==============================] - 3s 12ms/step - loss: 0.2208 - acc: 0.3800\n",
      "Epoch 2/20\n",
      "300/300 [==============================] - 2s 6ms/step - loss: 0.2213 - acc: 0.4433\n",
      "Epoch 3/20\n",
      "300/300 [==============================] - 2s 6ms/step - loss: 0.2146 - acc: 0.4867\n",
      "Epoch 4/20\n",
      "300/300 [==============================] - 2s 6ms/step - loss: 0.2067 - acc: 0.5700\n",
      "Epoch 5/20\n",
      "300/300 [==============================] - 2s 6ms/step - loss: 0.2022 - acc: 0.4967\n",
      "Epoch 6/20\n",
      "300/300 [==============================] - 2s 6ms/step - loss: 0.1933 - acc: 0.5800\n",
      "Epoch 7/20\n",
      "300/300 [==============================] - 2s 6ms/step - loss: 0.1842 - acc: 0.6833\n",
      "Epoch 8/20\n",
      "300/300 [==============================] - 2s 6ms/step - loss: 0.1742 - acc: 0.6700\n",
      "Epoch 9/20\n",
      "300/300 [==============================] - 2s 6ms/step - loss: 0.1667 - acc: 0.6833\n",
      "Epoch 10/20\n",
      "300/300 [==============================] - 2s 6ms/step - loss: 0.1546 - acc: 0.7567\n",
      "Epoch 11/20\n",
      "300/300 [==============================] - 2s 5ms/step - loss: 0.1441 - acc: 0.7667\n",
      "Epoch 12/20\n",
      "300/300 [==============================] - 2s 5ms/step - loss: 0.1362 - acc: 0.7633\n",
      "Epoch 13/20\n",
      "300/300 [==============================] - 2s 6ms/step - loss: 0.1287 - acc: 0.7900\n",
      "Epoch 14/20\n",
      "300/300 [==============================] - 2s 6ms/step - loss: 0.1184 - acc: 0.8133\n",
      "Epoch 15/20\n",
      "300/300 [==============================] - 2s 6ms/step - loss: 0.1093 - acc: 0.8167\n",
      "Epoch 16/20\n",
      "300/300 [==============================] - 2s 5ms/step - loss: 0.0996 - acc: 0.8400\n",
      "Epoch 17/20\n",
      "300/300 [==============================] - 2s 6ms/step - loss: 0.0967 - acc: 0.8633\n",
      "Epoch 18/20\n",
      "300/300 [==============================] - 2s 6ms/step - loss: 0.0869 - acc: 0.8833\n",
      "Epoch 19/20\n",
      "300/300 [==============================] - 2s 6ms/step - loss: 0.0809 - acc: 0.8833\n",
      "Epoch 20/20\n",
      "300/300 [==============================] - 2s 5ms/step - loss: 0.0776 - acc: 0.8933\n"
     ]
    },
    {
     "data": {
      "text/plain": [
       "<keras.callbacks.History at 0x1f50554bba8>"
      ]
     },
     "execution_count": 59,
     "metadata": {},
     "output_type": "execute_result"
    }
   ],
   "source": [
    "model_cnn.fit(X_train_rs, Y_train, epochs=20)"
   ]
  },
  {
   "cell_type": "code",
   "execution_count": 60,
   "metadata": {},
   "outputs": [
    {
     "name": "stdout",
     "output_type": "stream",
     "text": [
      "300/300 [==============================] - 1s 4ms/step\n"
     ]
    },
    {
     "data": {
      "text/plain": [
       "[0.07426313479741414, 0.89]"
      ]
     },
     "execution_count": 60,
     "metadata": {},
     "output_type": "execute_result"
    }
   ],
   "source": [
    "# Using the model.evaluate feature, we can assess the overall accuracy and loss of the model\n",
    "model_cnn.evaluate(X_train_rs, Y_train)"
   ]
  },
  {
   "cell_type": "code",
   "execution_count": 61,
   "metadata": {},
   "outputs": [
    {
     "name": "stdout",
     "output_type": "stream",
     "text": [
      "_________________________________________________________________\n",
      "Layer (type)                 Output Shape              Param #   \n",
      "=================================================================\n",
      "conv2d_2 (Conv2D)            (None, 68, 68, 16)        416       \n",
      "_________________________________________________________________\n",
      "max_pooling2d_2 (MaxPooling2 (None, 13, 13, 16)        0         \n",
      "_________________________________________________________________\n",
      "locally_connected2d_2 (Local (None, 9, 9, 16)          519696    \n",
      "_________________________________________________________________\n",
      "flatten_2 (Flatten)          (None, 1296)              0         \n",
      "_________________________________________________________________\n",
      "dense_38 (Dense)             (None, 3)                 3891      \n",
      "=================================================================\n",
      "Total params: 524,003\n",
      "Trainable params: 524,003\n",
      "Non-trainable params: 0\n",
      "_________________________________________________________________\n"
     ]
    }
   ],
   "source": [
    "# Check the model summary to obtain overall insights of our deep learning model\n",
    "model_cnn.summary()"
   ]
  },
  {
   "cell_type": "markdown",
   "metadata": {},
   "source": [
    "## 6. A Regression Problem"
   ]
  },
  {
   "cell_type": "markdown",
   "metadata": {},
   "source": [
    "The task now is to predict the image locations of the vertices of a triangle, given an image of this triangle."
   ]
  },
  {
   "cell_type": "code",
   "execution_count": 64,
   "metadata": {},
   "outputs": [
    {
     "name": "stdout",
     "output_type": "stream",
     "text": [
      "Creating data:\n",
      "0\n",
      "10\n",
      "20\n",
      "30\n",
      "40\n",
      "50\n",
      "60\n",
      "70\n",
      "80\n",
      "90\n",
      "100\n",
      "110\n",
      "120\n",
      "130\n",
      "140\n",
      "150\n",
      "160\n",
      "170\n",
      "180\n",
      "190\n",
      "200\n",
      "210\n",
      "220\n",
      "230\n",
      "240\n",
      "250\n",
      "260\n",
      "270\n",
      "280\n",
      "290\n"
     ]
    }
   ],
   "source": [
    "# generate the required regression dataset\n",
    "[X_train, Y_train] = generate_dataset_regression(300, 20)"
   ]
  },
  {
   "cell_type": "code",
   "execution_count": 65,
   "metadata": {},
   "outputs": [
    {
     "data": {
      "image/png": "[encoded data removed]",
      "text/plain": [
       "<Figure size 360x360 with 1 Axes>"
      ]
     },
     "metadata": {},
     "output_type": "display_data"
    }
   ],
   "source": [
    "# plot a training sample using the visualize prediction function\n",
    "visualize_prediction(X_train[0], Y_train[0]) "
   ]
  },
  {
   "cell_type": "code",
   "execution_count": 66,
   "metadata": {},
   "outputs": [
    {
     "name": "stdout",
     "output_type": "stream",
     "text": [
      "Creating data:\n",
      "0\n",
      "10\n",
      "20\n",
      "30\n",
      "40\n",
      "50\n",
      "60\n",
      "70\n",
      "80\n",
      "90\n",
      "100\n",
      "110\n",
      "120\n",
      "130\n",
      "140\n",
      "150\n",
      "160\n",
      "170\n",
      "180\n",
      "190\n",
      "200\n",
      "210\n",
      "220\n",
      "230\n",
      "240\n",
      "250\n",
      "260\n",
      "270\n",
      "280\n",
      "290\n"
     ]
    }
   ],
   "source": [
    "[X_test, Y_test] = generate_test_set_regression()"
   ]
  },
  {
   "cell_type": "code",
   "execution_count": 67,
   "metadata": {},
   "outputs": [],
   "source": [
    "from keras.wrappers.scikit_learn import KerasRegressor\n",
    "from sklearn.model_selection import cross_val_score\n",
    "from sklearn.model_selection import KFold\n",
    "from sklearn.preprocessing import StandardScaler\n",
    "from sklearn.pipeline import Pipeline"
   ]
  },
  {
   "cell_type": "code",
   "execution_count": 69,
   "metadata": {},
   "outputs": [
    {
     "data": {
      "text/plain": [
       "(300, 6)"
      ]
     },
     "execution_count": 69,
     "metadata": {},
     "output_type": "execute_result"
    }
   ],
   "source": [
    "Y_train.shape"
   ]
  },
  {
   "cell_type": "code",
   "execution_count": 70,
   "metadata": {},
   "outputs": [],
   "source": [
    "# define base model with core layers\n",
    "def baseline_model():\n",
    "    # create model\n",
    "    model = Sequential()\n",
    "    model.add(Dense(neurons, kernel_initializer='normal', activation='relu'))\n",
    "    model.add(Dense(6, kernel_initializer='normal'))\n",
    "    # Compile model\n",
    "    model.compile(loss='mean_squared_error', optimizer='adam')\n",
    "    return model"
   ]
  },
  {
   "cell_type": "code",
   "execution_count": 71,
   "metadata": {},
   "outputs": [],
   "source": [
    "# evaluate model with standardized dataset using Keras Regressor\n",
    "estimator = KerasRegressor(build_fn=baseline_model, epochs=100, batch_size=5, verbose=0)"
   ]
  },
  {
   "cell_type": "code",
   "execution_count": 74,
   "metadata": {},
   "outputs": [
    {
     "name": "stdout",
     "output_type": "stream",
     "text": [
      "Results: -0.08 (0.01) MSE\n"
     ]
    }
   ],
   "source": [
    "kfold = KFold(n_splits=10)\n",
    "results = cross_val_score(estimator, X_train, Y_train, cv=kfold)\n",
    "print(\"Results: %.2f (%.2f) MSE\" % (results.mean(), results.std()))"
   ]
  },
  {
   "cell_type": "code",
   "execution_count": 76,
   "metadata": {},
   "outputs": [
    {
     "name": "stdout",
     "output_type": "stream",
     "text": [
      "Standardized: -0.19 (0.04) MSE\n"
     ]
    }
   ],
   "source": [
    "# evaluate model with standardized dataset\n",
    "estimators = []\n",
    "estimators.append(('standardize', StandardScaler()))\n",
    "estimators.append(('mlp', KerasRegressor(build_fn=baseline_model, epochs=50, batch_size=5, verbose=0)))\n",
    "pipeline = Pipeline(estimators)\n",
    "kfold = KFold(n_splits=10)\n",
    "results = cross_val_score(pipeline, X_train, Y_train, cv=kfold)\n",
    "print(\"Standardized: %.2f (%.2f) MSE\" % (results.mean(), results.std()))"
   ]
  },
  {
   "cell_type": "code",
   "execution_count": 78,
   "metadata": {},
   "outputs": [
    {
     "data": {
      "text/plain": [
       "<keras.callbacks.History at 0x1f51f563940>"
      ]
     },
     "execution_count": 78,
     "metadata": {},
     "output_type": "execute_result"
    }
   ],
   "source": [
    "estimator.fit(X_train, Y_train)"
   ]
  },
  {
   "cell_type": "code",
   "execution_count": 84,
   "metadata": {},
   "outputs": [
    {
     "data": {
      "text/plain": [
       "array([[0.57618225, 0.48132205, 0.5650029 , 0.5144368 , 0.5870234 ,\n",
       "        0.47254327],\n",
       "       [0.41394702, 0.5856964 , 0.39995983, 0.5372573 , 0.38215908,\n",
       "        0.60295534],\n",
       "       [0.34230566, 0.58747923, 0.32520556, 0.5153069 , 0.2917602 ,\n",
       "        0.61414284],\n",
       "       ...,\n",
       "       [0.30333537, 0.50600964, 0.28105727, 0.44377562, 0.24271126,\n",
       "        0.5338941 ],\n",
       "       [0.23580597, 0.36483553, 0.20455521, 0.31982315, 0.15771712,\n",
       "        0.39483565],\n",
       "       [0.4459414 , 0.5233189 , 0.43074128, 0.50254637, 0.42262354,\n",
       "        0.53346837]], dtype=float32)"
      ]
     },
     "execution_count": 84,
     "metadata": {},
     "output_type": "execute_result"
    }
   ],
   "source": [
    "# Predict the values of y for the test data\n",
    "y_pred = estimator.predict(X_test)\n",
    "y_pred"
   ]
  },
  {
   "cell_type": "code",
   "execution_count": 85,
   "metadata": {},
   "outputs": [
    {
     "name": "stdout",
     "output_type": "stream",
     "text": [
      "X=[0.97971582 0.98408924 0.9952138  ... 0.96632057 0.96371418 0.99983144], Predicted=[0.57618225 0.48132205 0.5650029  0.5144368  0.5870234  0.47254327], Actual=[0.94133439 0.93818117 0.67661723 0.27556678 0.36340393 0.33217252]\n",
      "X=[0.980205   0.9494385  0.99064977 ... 0.98630824 0.94669241 0.95031914], Predicted=[0.41394702 0.5856964  0.39995983 0.5372573  0.38215908 0.60295534], Actual=[0.49350036 0.81401674 0.17839825 0.77686033 0.51306942 0.78858177]\n",
      "X=[0.97088494 0.99175157 0.94548286 ... 0.95201227 0.98255148 0.96649708], Predicted=[0.34230566 0.58747923 0.32520556 0.5153069  0.2917602  0.61414284], Actual=[0.23325432 0.15415605 0.5149824  0.45317341 0.32182751 0.87390724]\n"
     ]
    }
   ],
   "source": [
    "# summary of values of the X, Predicted and Actuals\n",
    "for i in range(3):\n",
    "    print(\"X=%s, Predicted=%s, Actual=%s\" % (X_test[i], y_pred[i], Y_test[i]))"
   ]
  },
  {
   "cell_type": "markdown",
   "metadata": {},
   "source": [
    "## 7. Image Denoising"
   ]
  },
  {
   "cell_type": "code",
   "execution_count": 27,
   "metadata": {},
   "outputs": [],
   "source": [
    "import keras.backend as K\n",
    "from keras.initializers import VarianceScaling\n",
    "from keras.engine.topology import Layer, InputSpec\n",
    "\n",
    "from scipy.misc import imread\n",
    "from sklearn.metrics import accuracy_score, normalized_mutual_info_score\n",
    "from keras.layers import Dense, Input, Conv2D, MaxPool2D, UpSampling2D\n",
    "from keras.models import Model\n",
    "from keras import callbacks"
   ]
  },
  {
   "cell_type": "code",
   "execution_count": 10,
   "metadata": {},
   "outputs": [],
   "source": [
    "train_x = generate_a_disk()"
   ]
  },
  {
   "cell_type": "code",
   "execution_count": 13,
   "metadata": {},
   "outputs": [],
   "source": [
    "train_x_aug = generate_a_disk(0.2)"
   ]
  },
  {
   "cell_type": "code",
   "execution_count": 14,
   "metadata": {},
   "outputs": [],
   "source": [
    "val_x =  generate_a_disk()"
   ]
  },
  {
   "cell_type": "code",
   "execution_count": 15,
   "metadata": {},
   "outputs": [],
   "source": [
    "val_x_aug = generate_a_disk(0.2)"
   ]
  },
  {
   "cell_type": "code",
   "execution_count": 16,
   "metadata": {},
   "outputs": [],
   "source": [
    "train_x = train_x/255.\n",
    "val_x = val_x/255.\n",
    "\n",
    "train_x = train_x.reshape(-1, IMAGE_SIZE, IMAGE_SIZE, 1)\n",
    "val_x = val_x.reshape(-1, IMAGE_SIZE, IMAGE_SIZE, 1)\n",
    "\n",
    "train_x_aug = train_x_aug/255.\n",
    "val_x_aug = val_x_aug/255.\n",
    "\n",
    "train_x_aug = train_x_aug.reshape(-1, IMAGE_SIZE, IMAGE_SIZE, 1)\n",
    "val_x_aug = val_x_aug.reshape(-1, IMAGE_SIZE, IMAGE_SIZE, 1)"
   ]
  },
  {
   "cell_type": "code",
   "execution_count": 21,
   "metadata": {},
   "outputs": [],
   "source": [
    "# this is our input placeholder\n",
    "input_img = Input(shape=(IMAGE_SIZE, IMAGE_SIZE, 1))\n",
    "\n",
    "# \"encoded\" is the encoded representation of the input\n",
    "encoded = Conv2D(64, (3, 3), activation='relu', padding='same')(input_img)\n",
    "encoded = MaxPool2D((2, 2), padding='same')(encoded)\n",
    "encoded = Conv2D(32, (3, 3), activation='relu', padding='same')(encoded)\n",
    "encoded = MaxPool2D((2, 2), padding='same')(encoded)\n",
    "encoded = Conv2D(16, (3, 3), activation='relu', padding='same')(encoded)\n",
    "encoded = MaxPool2D((2, 2), padding='same')(encoded)\n",
    "\n",
    "# \"decoded\" is the lossy reconstruction of the input\n",
    "decoded = Conv2D(16, (3, 3), activation='relu', padding='same')(encoded)\n",
    "decoded = UpSampling2D((2, 2))(decoded)\n",
    "decoded = Conv2D(32, (3, 3), activation='relu', padding='same')(decoded)\n",
    "decoded = UpSampling2D((2, 2))(decoded)\n",
    "decoded = Conv2D(64, (3, 3), activation='relu')(decoded)\n",
    "decoded = UpSampling2D((2, 2))(decoded)\n",
    "decoded = Conv2D(1, (3, 3), padding='same')(decoded)\n",
    "\n",
    "# this model maps an input to its reconstruction\n",
    "autoencoder = Model(input_img, decoded)"
   ]
  },
  {
   "cell_type": "code",
   "execution_count": 22,
   "metadata": {},
   "outputs": [
    {
     "name": "stdout",
     "output_type": "stream",
     "text": [
      "_________________________________________________________________\n",
      "Layer (type)                 Output Shape              Param #   \n",
      "=================================================================\n",
      "input_2 (InputLayer)         (None, 72, 72, 1)         0         \n",
      "_________________________________________________________________\n",
      "conv2d_8 (Conv2D)            (None, 72, 72, 64)        640       \n",
      "_________________________________________________________________\n",
      "max_pooling2d_4 (MaxPooling2 (None, 36, 36, 64)        0         \n",
      "_________________________________________________________________\n",
      "conv2d_9 (Conv2D)            (None, 36, 36, 32)        18464     \n",
      "_________________________________________________________________\n",
      "max_pooling2d_5 (MaxPooling2 (None, 18, 18, 32)        0         \n",
      "_________________________________________________________________\n",
      "conv2d_10 (Conv2D)           (None, 18, 18, 16)        4624      \n",
      "_________________________________________________________________\n",
      "max_pooling2d_6 (MaxPooling2 (None, 9, 9, 16)          0         \n",
      "_________________________________________________________________\n",
      "conv2d_11 (Conv2D)           (None, 9, 9, 16)          2320      \n",
      "_________________________________________________________________\n",
      "up_sampling2d_4 (UpSampling2 (None, 18, 18, 16)        0         \n",
      "_________________________________________________________________\n",
      "conv2d_12 (Conv2D)           (None, 18, 18, 32)        4640      \n",
      "_________________________________________________________________\n",
      "up_sampling2d_5 (UpSampling2 (None, 36, 36, 32)        0         \n",
      "_________________________________________________________________\n",
      "conv2d_13 (Conv2D)           (None, 34, 34, 64)        18496     \n",
      "_________________________________________________________________\n",
      "up_sampling2d_6 (UpSampling2 (None, 68, 68, 64)        0         \n",
      "_________________________________________________________________\n",
      "conv2d_14 (Conv2D)           (None, 68, 68, 1)         577       \n",
      "=================================================================\n",
      "Total params: 49,761\n",
      "Trainable params: 49,761\n",
      "Non-trainable params: 0\n",
      "_________________________________________________________________\n"
     ]
    }
   ],
   "source": [
    "autoencoder.summary()"
   ]
  },
  {
   "cell_type": "code",
   "execution_count": 23,
   "metadata": {},
   "outputs": [],
   "source": [
    "encoder = Model(input_img, encoded)"
   ]
  },
  {
   "cell_type": "code",
   "execution_count": 24,
   "metadata": {},
   "outputs": [],
   "source": [
    "autoencoder.compile(optimizer='adam', loss='mse')"
   ]
  },
  {
   "cell_type": "code",
   "execution_count": 30,
   "metadata": {},
   "outputs": [],
   "source": [
    "estop = callbacks.EarlyStopping(monitor='val_loss', min_delta=0, patience=10, verbose=1, mode='auto')"
   ]
  },
  {
   "cell_type": "code",
   "execution_count": null,
   "metadata": {},
   "outputs": [],
   "source": [
    "train_history = autoencoder.fit(train_x_aug, train_x, epochs=20, batch_size=32, validation_data=(val_x_aug, val_x), callbacks=[estop])"
   ]
  }
 ],
 "metadata": {
  "kernelspec": {
   "display_name": "Python 3",
   "language": "python",
   "name": "python3"
  },
  "language_info": {
   "codemirror_mode": {
    "name": "ipython",
    "version": 3
   },
   "file_extension": ".py",
   "mimetype": "text/x-python",
   "name": "python",
   "nbconvert_exporter": "python",
   "pygments_lexer": "ipython3",
   "version": "3.6.5"
  }
 },
 "nbformat": 4,
 "nbformat_minor": 2
}
